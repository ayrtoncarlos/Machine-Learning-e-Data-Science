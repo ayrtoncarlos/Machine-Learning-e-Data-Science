{
 "cells": [
  {
   "cell_type": "code",
   "execution_count": 15,
   "metadata": {
    "collapsed": true
   },
   "outputs": [],
   "source": [
    "class Robot(object):\n",
    "\n",
    "    def __init__(self, x, y):\n",
    "        \n",
    "        self.x = x\n",
    "        self.y = y\n",
    "        \n",
    "    def move_up(self):\n",
    "        \n",
    "        if self.y < 10:\n",
    "            \n",
    "            self.y = self.y + 1\n",
    "            \n",
    "        else:\n",
    "            \n",
    "            print(\"Movimento Proibido!\")\n",
    "        \n",
    "    def move_down(self):\n",
    "        \n",
    "        if self.y > 0:\n",
    "        \n",
    "            self.y = self.y - 1\n",
    "        \n",
    "        else:\n",
    "            \n",
    "            print(\"Movimento Proibido!\")\n",
    "            \n",
    "    def move_left(self):\n",
    "        \n",
    "        if self.x > 0:\n",
    "            \n",
    "            self.x = self.x - 1\n",
    "            \n",
    "        else:\n",
    "            \n",
    "            print(\"Movimento Proibido!\")\n",
    "        \n",
    "    def move_right(self):\n",
    "        \n",
    "        if self.x < 10:\n",
    "            \n",
    "            self.x = self.x + 1\n",
    "            \n",
    "        else:\n",
    "            \n",
    "            print(\"Movimento Proibido!\")"
   ]
  },
  {
   "cell_type": "code",
   "execution_count": 16,
   "metadata": {
    "collapsed": true
   },
   "outputs": [],
   "source": [
    "r1 = Robo(5, 5)"
   ]
  },
  {
   "cell_type": "code",
   "execution_count": 22,
   "metadata": {
    "collapsed": false
   },
   "outputs": [
    {
     "name": "stdout",
     "output_type": "stream",
     "text": [
      "Movimento Proibido!\n"
     ]
    }
   ],
   "source": [
    "r1.move_up()"
   ]
  },
  {
   "cell_type": "code",
   "execution_count": 23,
   "metadata": {
    "collapsed": false
   },
   "outputs": [
    {
     "data": {
      "text/plain": [
       "10"
      ]
     },
     "execution_count": 23,
     "metadata": {},
     "output_type": "execute_result"
    }
   ],
   "source": [
    "r1.y"
   ]
  },
  {
   "cell_type": "code",
   "execution_count": null,
   "metadata": {
    "collapsed": true
   },
   "outputs": [],
   "source": []
  }
 ],
 "metadata": {
  "kernelspec": {
   "display_name": "Python 3",
   "language": "python",
   "name": "python3"
  },
  "language_info": {
   "codemirror_mode": {
    "name": "ipython",
    "version": 3
   },
   "file_extension": ".py",
   "mimetype": "text/x-python",
   "name": "python",
   "nbconvert_exporter": "python",
   "pygments_lexer": "ipython3",
   "version": "3.6.0"
  }
 },
 "nbformat": 4,
 "nbformat_minor": 2
}
