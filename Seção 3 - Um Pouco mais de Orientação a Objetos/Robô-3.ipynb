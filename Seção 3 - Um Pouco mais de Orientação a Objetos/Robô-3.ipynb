{
 "cells": [
  {
   "cell_type": "code",
   "execution_count": 1,
   "metadata": {
    "collapsed": true
   },
   "outputs": [],
   "source": [
    "class Point(object):\n",
    "    \n",
    "    def __init__(self, x, y):\n",
    "        \n",
    "        self.x = x\n",
    "        self.y = y"
   ]
  },
  {
   "cell_type": "code",
   "execution_count": 2,
   "metadata": {
    "collapsed": true
   },
   "outputs": [],
   "source": [
    "class Reward(Point):\n",
    "    \n",
    "    def __init__(self, x, y, name):\n",
    "        \n",
    "        super(Reward, self).__init__(x, y)\n",
    "        self.name = name"
   ]
  },
  {
   "cell_type": "code",
   "execution_count": 4,
   "metadata": {
    "collapsed": true
   },
   "outputs": [],
   "source": [
    "reward1 = Reward(1, 1, \"Moeda de Ouro\")"
   ]
  },
  {
   "cell_type": "code",
   "execution_count": 5,
   "metadata": {
    "collapsed": false
   },
   "outputs": [
    {
     "name": "stdout",
     "output_type": "stream",
     "text": [
      "1\n",
      "Moeda de Ouro\n"
     ]
    }
   ],
   "source": [
    "print(reward1.x)\n",
    "print(reward1.name)"
   ]
  },
  {
   "cell_type": "code",
   "execution_count": 6,
   "metadata": {
    "collapsed": true
   },
   "outputs": [],
   "source": [
    "class Robot(Point):\n",
    "        \n",
    "    def move_up(self):\n",
    "        \n",
    "        if self.y < 10:\n",
    "            \n",
    "            self.y = self.y + 1\n",
    "            \n",
    "        else:\n",
    "            \n",
    "            print(\"Movimento Proibido!\")\n",
    "        \n",
    "    def move_down(self):\n",
    "        \n",
    "        if self.y > 0:\n",
    "        \n",
    "            self.y = self.y - 1\n",
    "        \n",
    "        else:\n",
    "            \n",
    "            print(\"Movimento Proibido!\")\n",
    "            \n",
    "    def move_left(self):\n",
    "        \n",
    "        if self.x > 0:\n",
    "            \n",
    "            self.x = self.x - 1\n",
    "            \n",
    "        else:\n",
    "            \n",
    "            print(\"Movimento Proibido!\")\n",
    "        \n",
    "    def move_right(self):\n",
    "        \n",
    "        if self.x < 10:\n",
    "            \n",
    "            self.x = self.x + 1\n",
    "            \n",
    "        else:\n",
    "            \n",
    "            print(\"Movimento Proibido!\")"
   ]
  },
  {
   "cell_type": "code",
   "execution_count": 7,
   "metadata": {
    "collapsed": true
   },
   "outputs": [],
   "source": [
    "robo1 = Robo(5, 5)"
   ]
  },
  {
   "cell_type": "code",
   "execution_count": 8,
   "metadata": {
    "collapsed": false
   },
   "outputs": [
    {
     "data": {
      "text/plain": [
       "5"
      ]
     },
     "execution_count": 8,
     "metadata": {},
     "output_type": "execute_result"
    }
   ],
   "source": [
    "robo1.x"
   ]
  },
  {
   "cell_type": "code",
   "execution_count": 9,
   "metadata": {
    "collapsed": false
   },
   "outputs": [
    {
     "data": {
      "text/plain": [
       "5"
      ]
     },
     "execution_count": 9,
     "metadata": {},
     "output_type": "execute_result"
    }
   ],
   "source": [
    "robo1.y"
   ]
  },
  {
   "cell_type": "code",
   "execution_count": 10,
   "metadata": {
    "collapsed": true
   },
   "outputs": [],
   "source": [
    "robo1.move_down()"
   ]
  },
  {
   "cell_type": "code",
   "execution_count": 11,
   "metadata": {
    "collapsed": false
   },
   "outputs": [
    {
     "data": {
      "text/plain": [
       "4"
      ]
     },
     "execution_count": 11,
     "metadata": {},
     "output_type": "execute_result"
    }
   ],
   "source": [
    "robo1.y"
   ]
  },
  {
   "cell_type": "code",
   "execution_count": null,
   "metadata": {
    "collapsed": true
   },
   "outputs": [],
   "source": []
  }
 ],
 "metadata": {
  "kernelspec": {
   "display_name": "Python 3",
   "language": "python",
   "name": "python3"
  },
  "language_info": {
   "codemirror_mode": {
    "name": "ipython",
    "version": 3
   },
   "file_extension": ".py",
   "mimetype": "text/x-python",
   "name": "python",
   "nbconvert_exporter": "python",
   "pygments_lexer": "ipython3",
   "version": "3.6.0"
  }
 },
 "nbformat": 4,
 "nbformat_minor": 2
}
