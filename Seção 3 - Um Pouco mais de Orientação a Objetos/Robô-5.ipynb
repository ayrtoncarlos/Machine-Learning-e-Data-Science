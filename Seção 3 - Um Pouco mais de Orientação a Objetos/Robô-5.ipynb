{
 "cells": [
  {
   "cell_type": "code",
   "execution_count": 24,
   "metadata": {
    "collapsed": true
   },
   "outputs": [],
   "source": [
    "class Point(object):\n",
    "    \n",
    "    def __init__(self, x, y):\n",
    "        \n",
    "        self.x = x\n",
    "        self.y = y\n",
    "        \n",
    "    def __str__(self):\n",
    "        \n",
    "        return \"<%s, %s>\" % (self.x, self.y)\n",
    "        \n",
    "class Reward(Point):\n",
    "    \n",
    "    def __init__(self, x, y, name):\n",
    "        \n",
    "        super(Reward, self).__init__(x, y)\n",
    "        self.name = name\n",
    "        \n",
    "    def __str__(self):\n",
    "        \n",
    "        return \"<%s, %s>: %s\" % (self.x, self.y, self.name)\n",
    "    \n",
    "    def __repr__(self):\n",
    "        \n",
    "        return \"<Reward> %s\" % str(self)\n",
    "        \n",
    "class Robot(Point):\n",
    "        \n",
    "    def move_up(self):\n",
    "        \n",
    "        if self.y < 10:\n",
    "            \n",
    "            self.y = self.y + 1\n",
    "            \n",
    "        else:\n",
    "            \n",
    "            print(\"Movimento Proibido!\")\n",
    "        \n",
    "    def move_down(self):\n",
    "        \n",
    "        if self.y > 0:\n",
    "        \n",
    "            self.y = self.y - 1\n",
    "        \n",
    "        else:\n",
    "            \n",
    "            print(\"Movimento Proibido!\")\n",
    "            \n",
    "    def move_left(self):\n",
    "        \n",
    "        if self.x > 0:\n",
    "            \n",
    "            self.x = self.x - 1\n",
    "            \n",
    "        else:\n",
    "            \n",
    "            print(\"Movimento Proibido!\")\n",
    "        \n",
    "    def move_right(self):\n",
    "        \n",
    "        if self.x < 10:\n",
    "            \n",
    "            self.x = self.x + 1\n",
    "            \n",
    "        else:\n",
    "            \n",
    "            print(\"Movimento Proibido!\")"
   ]
  },
  {
   "cell_type": "code",
   "execution_count": 25,
   "metadata": {
    "collapsed": true
   },
   "outputs": [],
   "source": [
    "def check_reward(robot, rewards):\n",
    "    \n",
    "    ok = False\n",
    "    \n",
    "    for reward in rewards:\n",
    "        \n",
    "        if reward.x == robot.x and reward.y == robot.y:\n",
    "            \n",
    "            print(\"O robô achou a recompensa: %s\" % reward.name)\n",
    "            ok = True\n",
    "            \n",
    "    return ok"
   ]
  },
  {
   "cell_type": "code",
   "execution_count": 26,
   "metadata": {
    "collapsed": true
   },
   "outputs": [],
   "source": [
    "import random"
   ]
  },
  {
   "cell_type": "code",
   "execution_count": 27,
   "metadata": {
    "collapsed": true
   },
   "outputs": [],
   "source": [
    "r1 = Reward(random.randint(0, 10), random.randint(0, 10), \"Moeda\")\n",
    "r2 = Reward(random.randint(0, 10), random.randint(0, 10), \"Gasolina\")\n",
    "r3 = Reward(random.randint(0, 10), random.randint(0, 10), \"Arma\")\n",
    "\n",
    "rewards = [r1, r2, r3]"
   ]
  },
  {
   "cell_type": "code",
   "execution_count": 28,
   "metadata": {
    "collapsed": false
   },
   "outputs": [
    {
     "name": "stdout",
     "output_type": "stream",
     "text": [
      "<3, 6>: Moeda\n"
     ]
    }
   ],
   "source": [
    "print(r1)"
   ]
  },
  {
   "cell_type": "code",
   "execution_count": 29,
   "metadata": {
    "collapsed": false
   },
   "outputs": [
    {
     "data": {
      "text/plain": [
       "'<3, 6>: Moeda'"
      ]
     },
     "execution_count": 29,
     "metadata": {},
     "output_type": "execute_result"
    }
   ],
   "source": [
    "str(r1)"
   ]
  },
  {
   "cell_type": "code",
   "execution_count": 30,
   "metadata": {
    "collapsed": false
   },
   "outputs": [
    {
     "data": {
      "text/plain": [
       "[<Reward> <3, 6>: Moeda, <Reward> <8, 6>: Gasolina, <Reward> <6, 6>: Arma]"
      ]
     },
     "execution_count": 30,
     "metadata": {},
     "output_type": "execute_result"
    }
   ],
   "source": [
    "rewards"
   ]
  },
  {
   "cell_type": "code",
   "execution_count": 31,
   "metadata": {
    "collapsed": false
   },
   "outputs": [
    {
     "data": {
      "text/plain": [
       "'<Reward> <3, 6>: Moeda'"
      ]
     },
     "execution_count": 31,
     "metadata": {},
     "output_type": "execute_result"
    }
   ],
   "source": [
    "r1.__repr__()"
   ]
  },
  {
   "cell_type": "code",
   "execution_count": 32,
   "metadata": {
    "collapsed": true
   },
   "outputs": [],
   "source": [
    "robot = Robot(random.randint(0, 10), random.randint(0, 10))"
   ]
  },
  {
   "cell_type": "code",
   "execution_count": 33,
   "metadata": {
    "collapsed": false
   },
   "outputs": [
    {
     "data": {
      "text/plain": [
       "'<4, 8>'"
      ]
     },
     "execution_count": 33,
     "metadata": {},
     "output_type": "execute_result"
    }
   ],
   "source": [
    "str(robot)"
   ]
  },
  {
   "cell_type": "code",
   "execution_count": null,
   "metadata": {
    "collapsed": true
   },
   "outputs": [],
   "source": []
  }
 ],
 "metadata": {
  "kernelspec": {
   "display_name": "Python 3",
   "language": "python",
   "name": "python3"
  },
  "language_info": {
   "codemirror_mode": {
    "name": "ipython",
    "version": 3
   },
   "file_extension": ".py",
   "mimetype": "text/x-python",
   "name": "python",
   "nbconvert_exporter": "python",
   "pygments_lexer": "ipython3",
   "version": "3.6.0"
  }
 },
 "nbformat": 4,
 "nbformat_minor": 2
}
