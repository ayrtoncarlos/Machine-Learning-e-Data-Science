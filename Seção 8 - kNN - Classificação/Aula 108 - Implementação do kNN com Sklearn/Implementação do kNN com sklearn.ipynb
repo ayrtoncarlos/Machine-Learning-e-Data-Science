{
 "cells": [
  {
   "cell_type": "code",
   "execution_count": 53,
   "metadata": {
    "collapsed": true
   },
   "outputs": [],
   "source": [
    "# Implementação do kNN com sklearn\n",
    "from sklearn.neighbors import KNeighborsClassifier"
   ]
  },
  {
   "cell_type": "code",
   "execution_count": 54,
   "metadata": {
    "collapsed": true
   },
   "outputs": [],
   "source": [
    "entradas, saidas = [], []"
   ]
  },
  {
   "cell_type": "code",
   "execution_count": 55,
   "metadata": {
    "collapsed": false
   },
   "outputs": [],
   "source": [
    "with open(\"dataset.data\", \"r\") as f:\n",
    "    \n",
    "    for linha in f.readlines():\n",
    "        \n",
    "        atrib = linha.replace(\"\\n\", \"\").split(\",\")\n",
    "        entradas.append([int(atrib[0]), int(atrib[2])])\n",
    "        saidas.append(int(atrib[3]))"
   ]
  },
  {
   "cell_type": "code",
   "execution_count": 56,
   "metadata": {
    "collapsed": true
   },
   "outputs": [],
   "source": [
    "p = 0.6 # Porcentagem dos dados para o treinamento"
   ]
  },
  {
   "cell_type": "code",
   "execution_count": 58,
   "metadata": {
    "collapsed": false
   },
   "outputs": [
    {
     "name": "stdout",
     "output_type": "stream",
     "text": [
      "Total de treinamentos: 183\n",
      "Total de testes: 123\n",
      "Total de acertos: 92\n",
      "Total de erros: 31\n",
      "Porcentagem de acertos: 74.80%\n",
      "Porcentagem de erros: 25.20%\n"
     ]
    }
   ],
   "source": [
    "limite = int(p * len(entradas))\n",
    "knn = KNeighborsClassifier(n_neighbors=15)\n",
    "knn.fit(entradas[:limite], saidas[:limite])\n",
    "labels = knn.predict(entradas[limite:])\n",
    "acertos, erros, indice_label = 0, 0, 0\n",
    "\n",
    "for i in range(limite, len(entradas)):\n",
    "\n",
    "    if labels[indice_label] == saidas[i]:\n",
    "        \n",
    "        acertos += 1\n",
    "        \n",
    "    else:\n",
    "\n",
    "        erros += 1\n",
    "        \n",
    "    indice_label += 1\n",
    "    \n",
    "print(\"Total de treinamentos: %d\" % limite)\n",
    "print(\"Total de testes: %d\" % (len(entradas) - limite))\n",
    "print(\"Total de acertos: %d\" % acertos)\n",
    "print(\"Total de erros: %d\" % erros)\n",
    "print(\"Porcentagem de acertos: %.2f%%\" % (100 * acertos / (len(entradas) - limite)))\n",
    "print(\"Porcentagem de erros: %.2f%%\" % (100 * erros / (len(entradas) - limite)))"
   ]
  },
  {
   "cell_type": "code",
   "execution_count": null,
   "metadata": {
    "collapsed": true
   },
   "outputs": [],
   "source": []
  }
 ],
 "metadata": {
  "kernelspec": {
   "display_name": "Python 3",
   "language": "python",
   "name": "python3"
  },
  "language_info": {
   "codemirror_mode": {
    "name": "ipython",
    "version": 3
   },
   "file_extension": ".py",
   "mimetype": "text/x-python",
   "name": "python",
   "nbconvert_exporter": "python",
   "pygments_lexer": "ipython3",
   "version": "3.6.0"
  }
 },
 "nbformat": 4,
 "nbformat_minor": 2
}
