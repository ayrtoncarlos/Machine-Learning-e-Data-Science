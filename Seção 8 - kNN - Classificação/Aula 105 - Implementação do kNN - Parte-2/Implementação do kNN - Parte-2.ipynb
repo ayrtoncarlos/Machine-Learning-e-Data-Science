{
 "cells": [
  {
   "cell_type": "code",
   "execution_count": 1,
   "metadata": {
    "collapsed": false
   },
   "outputs": [
    {
     "data": {
      "text/plain": [
       "'\\nImplementação do kNN\\nDataset: https://archive.ics.uci.edu/ml/datasets/Haberman%27s+Survival\\nDescrição do Dataset: Sobrevivência de pacientes submetidos a cirurgia de câncer de mama.\\n'"
      ]
     },
     "execution_count": 1,
     "metadata": {},
     "output_type": "execute_result"
    }
   ],
   "source": [
    "\"\"\"\n",
    "Implementação do kNN\n",
    "Dataset: https://archive.ics.uci.edu/ml/datasets/Haberman%27s+Survival\n",
    "Descrição do Dataset: Sobrevivência de pacientes submetidos a cirurgia de câncer de mama.\n",
    "\"\"\""
   ]
  },
  {
   "cell_type": "code",
   "execution_count": 2,
   "metadata": {
    "collapsed": true
   },
   "outputs": [],
   "source": [
    "# Listas de Amostras\n",
    "amostras = []"
   ]
  },
  {
   "cell_type": "code",
   "execution_count": 4,
   "metadata": {
    "collapsed": false
   },
   "outputs": [],
   "source": [
    "with open(\"dataset.data\", \"r\") as f:\n",
    "    \n",
    "    for linha in f.readlines():\n",
    "        \n",
    "        atrib = linha.replace(\"\\n\", \"\").split(\",\")\n",
    "        amostras.append([int(atrib[0]), int(atrib[1]), int(atrib[2]), int(atrib[3])])"
   ]
  },
  {
   "cell_type": "code",
   "execution_count": 5,
   "metadata": {
    "collapsed": false
   },
   "outputs": [
    {
     "data": {
      "text/plain": [
       "306"
      ]
     },
     "execution_count": 5,
     "metadata": {},
     "output_type": "execute_result"
    }
   ],
   "source": [
    "len(amostras)"
   ]
  },
  {
   "cell_type": "code",
   "execution_count": 8,
   "metadata": {
    "collapsed": true
   },
   "outputs": [],
   "source": [
    "def info_dataset(amostras, verbose=True):\n",
    "    \n",
    "    if verbose:\n",
    "        \n",
    "        print(\"Total de amostras: %d\" % len(amostras))\n",
    "        \n",
    "    rotulo1, rotulo2 = 0, 0\n",
    "    \n",
    "    for amostra in amostras:\n",
    "        \n",
    "        if amostra[-1] == 1:\n",
    "            \n",
    "            rotulo1 += 1\n",
    "            \n",
    "        else:\n",
    "            \n",
    "            rotulo2 += 1\n",
    "            \n",
    "    if verbose:\n",
    "        \n",
    "        print(\"Total de rotulo 1: %d\" % rotulo1)\n",
    "        print(\"Total de rotulo 2: %d\" % rotulo2)\n",
    "        \n",
    "    return [len(amostras), rotulo1, rotulo2]"
   ]
  },
  {
   "cell_type": "code",
   "execution_count": 9,
   "metadata": {
    "collapsed": false
   },
   "outputs": [
    {
     "name": "stdout",
     "output_type": "stream",
     "text": [
      "Total de amostras: 306\n",
      "Total de rotulo 1: 225\n",
      "Total de rotulo 2: 81\n"
     ]
    },
    {
     "data": {
      "text/plain": [
       "[306, 225, 81]"
      ]
     },
     "execution_count": 9,
     "metadata": {},
     "output_type": "execute_result"
    }
   ],
   "source": [
    "info_dataset(amostras)"
   ]
  },
  {
   "cell_type": "code",
   "execution_count": 12,
   "metadata": {
    "collapsed": false
   },
   "outputs": [],
   "source": [
    "p = 0.6\n",
    "_, rotulo1, rotulo2 = info_dataset(amostras, verbose=False)"
   ]
  },
  {
   "cell_type": "code",
   "execution_count": 16,
   "metadata": {
    "collapsed": false
   },
   "outputs": [],
   "source": [
    "treinamento, teste = [], []\n",
    "max_rotulo1, max_rotulo2 = int(p * rotulo1), int(p * rotulo2)\n",
    "total_rotulo1, total_rotulo2 = 0, 0\n",
    "\n",
    "for amostra in amostras:\n",
    "    \n",
    "    if (total_rotulo1 + total_rotulo2) < (max_rotulo1 + max_rotulo2):\n",
    "        \n",
    "        treinamento.append(amostra)\n",
    "        \n",
    "        if (amostra[-1] == 1) and (total_rotulo1 < max_rotulo1):\n",
    "            \n",
    "            total_rotulo1 += 1\n",
    "            \n",
    "        else:\n",
    "            \n",
    "            total_rotulo2 += 1\n",
    "            \n",
    "    else:\n",
    "        \n",
    "        teste.append(amostra)"
   ]
  },
  {
   "cell_type": "code",
   "execution_count": 18,
   "metadata": {
    "collapsed": false
   },
   "outputs": [
    {
     "name": "stdout",
     "output_type": "stream",
     "text": [
      "183\n",
      "123\n"
     ]
    }
   ],
   "source": [
    "print(len(treinamento))\n",
    "print(len(teste))"
   ]
  },
  {
   "cell_type": "code",
   "execution_count": 19,
   "metadata": {
    "collapsed": false
   },
   "outputs": [
    {
     "name": "stdout",
     "output_type": "stream",
     "text": [
      "Total de amostras: 183\n",
      "Total de rotulo 1: 132\n",
      "Total de rotulo 2: 51\n"
     ]
    },
    {
     "data": {
      "text/plain": [
       "[183, 132, 51]"
      ]
     },
     "execution_count": 19,
     "metadata": {},
     "output_type": "execute_result"
    }
   ],
   "source": [
    "info_dataset(treinamento)"
   ]
  },
  {
   "cell_type": "code",
   "execution_count": 20,
   "metadata": {
    "collapsed": false
   },
   "outputs": [
    {
     "name": "stdout",
     "output_type": "stream",
     "text": [
      "Total de amostras: 123\n",
      "Total de rotulo 1: 93\n",
      "Total de rotulo 2: 30\n"
     ]
    },
    {
     "data": {
      "text/plain": [
       "[123, 93, 30]"
      ]
     },
     "execution_count": 20,
     "metadata": {},
     "output_type": "execute_result"
    }
   ],
   "source": [
    "info_dataset(teste)"
   ]
  },
  {
   "cell_type": "code",
   "execution_count": 21,
   "metadata": {
    "collapsed": false
   },
   "outputs": [
    {
     "name": "stdout",
     "output_type": "stream",
     "text": [
      "Total de amostras: 306\n",
      "Total de rotulo 1: 225\n",
      "Total de rotulo 2: 81\n"
     ]
    },
    {
     "data": {
      "text/plain": [
       "[306, 225, 81]"
      ]
     },
     "execution_count": 21,
     "metadata": {},
     "output_type": "execute_result"
    }
   ],
   "source": [
    "info_dataset(amostras)"
   ]
  },
  {
   "cell_type": "code",
   "execution_count": null,
   "metadata": {
    "collapsed": true
   },
   "outputs": [],
   "source": []
  }
 ],
 "metadata": {
  "kernelspec": {
   "display_name": "Python 3",
   "language": "python",
   "name": "python3"
  },
  "language_info": {
   "codemirror_mode": {
    "name": "ipython",
    "version": 3
   },
   "file_extension": ".py",
   "mimetype": "text/x-python",
   "name": "python",
   "nbconvert_exporter": "python",
   "pygments_lexer": "ipython3",
   "version": "3.6.0"
  }
 },
 "nbformat": 4,
 "nbformat_minor": 2
}
