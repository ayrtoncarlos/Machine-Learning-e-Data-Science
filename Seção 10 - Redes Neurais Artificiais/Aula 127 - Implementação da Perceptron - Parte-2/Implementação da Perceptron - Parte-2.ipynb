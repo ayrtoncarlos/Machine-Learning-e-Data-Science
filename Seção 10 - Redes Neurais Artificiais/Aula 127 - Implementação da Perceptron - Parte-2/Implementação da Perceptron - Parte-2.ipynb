{
 "cells": [
  {
   "cell_type": "code",
   "execution_count": 35,
   "metadata": {
    "collapsed": false
   },
   "outputs": [
    {
     "name": "stdout",
     "output_type": "stream",
     "text": [
      "13\n"
     ]
    }
   ],
   "source": [
    "# Implementação Perceptron.\n",
    "\n",
    "import random\n",
    "\n",
    "class Perceptron:\n",
    "    \n",
    "    def __init__(self, amostras, saidas, taxa_aprendizado=0.1, epocas=1000, limiar=-1):\n",
    "        \n",
    "        self.amostras = amostras\n",
    "        self.saidas = saidas\n",
    "        self.taxa_aprendizado = taxa_aprendizado\n",
    "        self.epocas = epocas\n",
    "        self.limiar = limiar\n",
    "        self.n_amostras = len(amostras)\n",
    "        self.n_atributos = len(amostras[0])\n",
    "        self.pesos = []\n",
    "        \n",
    "    def treinar(self):\n",
    "        \n",
    "        for amostra in self.amostras:\n",
    "            \n",
    "            amostra.insert(0, self.limiar)\n",
    "        \n",
    "        for i in range(self.n_atributos):\n",
    "            \n",
    "            self.pesos.append(random.random())\n",
    "            \n",
    "        self.pesos.insert(0, self.limiar)\n",
    "        n_epocas = 0 # Contador de épocas.\n",
    "        \n",
    "        while True:\n",
    "            \n",
    "            erro = False # O erro inicialmente 'inexiste'.\n",
    "            \n",
    "            for i in range(self.n_amostras):\n",
    "                \n",
    "                u = 0\n",
    "                \n",
    "                for j in range(self.n_atributos + 1):\n",
    "                    \n",
    "                    u += self.pesos[j] * self.amostras[i][j]\n",
    "                    \n",
    "                y = self.degrau(u) # Obtém a saída da Rede.\n",
    "                \n",
    "                # Verifica se a saída da Rede é diferente da saída desejada.\n",
    "                if y != self.saidas[i]:\n",
    "                    \n",
    "                    # Cálcula o erro.\n",
    "                    erro_aux = self.saidas[i] - y\n",
    "                    \n",
    "                    # Faz o ajuste dos pesos para cada elemento da amostra.\n",
    "                    for j in range(self.n_atributos + 1):\n",
    "                        \n",
    "                        self.pesos[j] = self.pesos[j] + self.taxa_aprendizado * erro_aux * self.amostras[i][j]\n",
    "                    \n",
    "                    erro = True # O erro ainda 'existe'.\n",
    "            \n",
    "            n_epocas += 1 # Incrementa o número de épocas.\n",
    "            \n",
    "            # Critérios de Parada.\n",
    "            if not erro or n_epocas > self.epocas:\n",
    "                \n",
    "                break\n",
    "                \n",
    "        print(n_epocas)\n",
    "                \n",
    "    def degrau(self, u):\n",
    "        \n",
    "        if u >= 0:\n",
    "            \n",
    "            return 1\n",
    "        \n",
    "        else:\n",
    "            \n",
    "            return 0\n",
    "        \n",
    "#OR\n",
    "amostras = [[0, 0], [0, 1], [1, 0], [1, 1]]\n",
    "saidas = [0, 1, 1, 1]\n",
    "rede = Perceptron(amostras, saidas)\n",
    "rede.treinar()"
   ]
  },
  {
   "cell_type": "code",
   "execution_count": null,
   "metadata": {
    "collapsed": true
   },
   "outputs": [],
   "source": []
  }
 ],
 "metadata": {
  "kernelspec": {
   "display_name": "Python 3",
   "language": "python",
   "name": "python3"
  },
  "language_info": {
   "codemirror_mode": {
    "name": "ipython",
    "version": 3
   },
   "file_extension": ".py",
   "mimetype": "text/x-python",
   "name": "python",
   "nbconvert_exporter": "python",
   "pygments_lexer": "ipython3",
   "version": "3.6.0"
  }
 },
 "nbformat": 4,
 "nbformat_minor": 2
}
