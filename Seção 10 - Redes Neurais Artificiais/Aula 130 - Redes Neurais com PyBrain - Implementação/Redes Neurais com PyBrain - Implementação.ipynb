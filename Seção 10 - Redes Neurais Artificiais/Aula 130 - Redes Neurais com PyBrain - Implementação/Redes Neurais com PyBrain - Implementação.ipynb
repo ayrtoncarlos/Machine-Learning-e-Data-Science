{
 "cells": [
  {
   "cell_type": "code",
   "execution_count": 12,
   "metadata": {
    "collapsed": false
   },
   "outputs": [
    {
     "name": "stdout",
     "output_type": "stream",
     "text": [
      "\n",
      "Testing on data:\n",
      "('out:    ', '[-0    ]')\n",
      "('correct:', '[0     ]')\n",
      "error:  0.00000000\n",
      "('out:    ', '[1     ]')\n",
      "('correct:', '[1     ]')\n",
      "error:  0.00000000\n",
      "('out:    ', '[1     ]')\n",
      "('correct:', '[1     ]')\n",
      "error:  0.00000000\n",
      "('out:    ', '[-0    ]')\n",
      "('correct:', '[0     ]')\n",
      "error:  0.00000000\n",
      "('All errors:', [3.8504437671124366e-18, 4.4517882893533782e-19, 2.1351750453877553e-18, 1.0898559622941574e-17])\n",
      "('Average error:', 4.3323393160942758e-18)\n",
      "('Max error:', 1.0898559622941574e-17, 'Median error:', 3.8504437671124366e-18)\n"
     ]
    },
    {
     "data": {
      "text/plain": [
       "4.3323393160942758e-18"
      ]
     },
     "execution_count": 12,
     "metadata": {},
     "output_type": "execute_result"
    }
   ],
   "source": [
    "# Redes Neurais utilizando PyBrain\n",
    "\n",
    "from pybrain.datasets import SupervisedDataSet\n",
    "from pybrain.tools.shortcuts import buildNetwork\n",
    "from pybrain.supervised import BackpropTrainer\n",
    "\n",
    "# Passa as dimensões dos vetores de entrada e do objetivo.\n",
    "dataset = SupervisedDataSet(2, 1)\n",
    "\n",
    "# Tabela verdade (XOR):\n",
    "dataset.addSample([0, 0], [0])\n",
    "dataset.addSample([0, 1], [1])\n",
    "dataset.addSample([1, 0], [1])\n",
    "dataset.addSample([1, 1], [0])\n",
    "\n",
    "network = buildNetwork(dataset.indim, 4, dataset.outdim, bias=True)\n",
    "trainer = BackpropTrainer(network, dataset, learningrate=0.01, momentum=0.99)\n",
    "\n",
    "for epoch in range(1000): # Treina por 1000 épocas.(Foi testado com 550 épocas e já dar certo!)\n",
    "    \n",
    "    trainer.train()\n",
    "    \n",
    "# Formas alternativas para treinar.\n",
    "\"\"\"\n",
    "1ª) - Treinar por épocas simplificada:\n",
    "\n",
    "    trainer.trainEpochs(1000)\n",
    "    \n",
    "2ª) - Treinar até a convêrgencia:\n",
    "\n",
    "    trainer.trainUntilConvergence\n",
    "\"\"\"\n",
    "\n",
    "# Testar a Rede.\n",
    "test_data = SupervisedDataSet(2, 1)\n",
    "\n",
    "# Tabela verdade (XOR):\n",
    "test_data.addSample([0, 0], [0])\n",
    "test_data.addSample([0, 1], [1])\n",
    "test_data.addSample([1, 0], [1])\n",
    "test_data.addSample([1, 1], [0])\n",
    "\n",
    "trainer.testOnData(test_data, verbose=True)\n"
   ]
  }
 ],
 "metadata": {
  "kernelspec": {
   "display_name": "Python 3",
   "language": "python",
   "name": "python3"
  },
  "language_info": {
   "codemirror_mode": {
    "name": "ipython",
    "version": 3
   },
   "file_extension": ".py",
   "mimetype": "text/x-python",
   "name": "python",
   "nbconvert_exporter": "python",
   "pygments_lexer": "ipython3",
   "version": "3.6.0"
  }
 },
 "nbformat": 4,
 "nbformat_minor": 2
}
