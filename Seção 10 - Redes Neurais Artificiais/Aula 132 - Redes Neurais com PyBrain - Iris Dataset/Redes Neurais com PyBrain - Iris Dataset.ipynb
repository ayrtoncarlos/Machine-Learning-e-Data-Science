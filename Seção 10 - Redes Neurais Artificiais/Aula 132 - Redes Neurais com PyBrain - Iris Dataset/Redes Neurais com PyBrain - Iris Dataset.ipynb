{
 "cells": [
  {
   "cell_type": "code",
   "execution_count": 1,
   "metadata": {
    "collapsed": false
   },
   "outputs": [
    {
     "name": "stdout",
     "output_type": "stream",
     "text": [
      "150\n",
      "150\n"
     ]
    }
   ],
   "source": [
    "import numpy as np\n",
    "\n",
    "# Carregando os dados com NumPy\n",
    "entradas = np.genfromtxt(\"iris.data\", delimiter=\",\", usecols=(0, 1, 2, 3))\n",
    "saidas = np.genfromtxt(\"iris.data\", delimiter=\",\", usecols=(4))\n",
    "\n",
    "print(len(entradas))\n",
    "print(len(saidas))"
   ]
  },
  {
   "cell_type": "code",
   "execution_count": 5,
   "metadata": {
    "collapsed": false
   },
   "outputs": [
    {
     "name": "stdout",
     "output_type": "stream",
     "text": [
      "[[ 5.1  3.5  1.4  0.2]\n",
      " [ 4.9  3.   1.4  0.2]\n",
      " [ 4.7  3.2  1.3  0.2]\n",
      " [ 4.6  3.1  1.5  0.2]\n",
      " [ 5.   3.6  1.4  0.2]]\n",
      "[ 0.  0.  0.  0.  0.]\n",
      "-----------------------\n",
      "[[ 6.7  3.   5.2  2.3]\n",
      " [ 6.3  2.5  5.   1.9]\n",
      " [ 6.5  3.   5.2  2. ]\n",
      " [ 6.2  3.4  5.4  2.3]\n",
      " [ 5.9  3.   5.1  1.8]]\n",
      "[ 2.  2.  2.  2.  2.]\n"
     ]
    }
   ],
   "source": [
    "'''\n",
    "Iris-setosa: 0\n",
    "Iris-versicolor: 1\n",
    "Iris-virginica: 2\n",
    "'''\n",
    "\n",
    "# Mostrando as 5 primeiras amostras que são Iris-setosa.\n",
    "print(entradas[:5])\n",
    "print(saidas[:5])\n",
    "\n",
    "print(\"-----------------------\")\n",
    "\n",
    "# Mostrando as 5 últimas amostras que são de Iris-virginica.\n",
    "print(entradas[-5:])\n",
    "print(saidas[-5:])"
   ]
  },
  {
   "cell_type": "code",
   "execution_count": 7,
   "metadata": {
    "collapsed": false
   },
   "outputs": [
    {
     "name": "stdout",
     "output_type": "stream",
     "text": [
      "105\n",
      "105\n"
     ]
    }
   ],
   "source": [
    "# Utilizando 150 amostras para treino, sendo 35 de cada classe.\n",
    "entradas_treino = np.concatenate((entradas[:35], entradas[50:85], entradas[100:135]))\n",
    "saidas_treino = np.concatenate((saidas[:35], saidas[50:85], saidas[100:135]))\n",
    "\n",
    "print(len(entradas_treino))\n",
    "print(len(saidas_treino))"
   ]
  },
  {
   "cell_type": "code",
   "execution_count": 9,
   "metadata": {
    "collapsed": false
   },
   "outputs": [
    {
     "name": "stdout",
     "output_type": "stream",
     "text": [
      "45\n",
      "45\n"
     ]
    }
   ],
   "source": [
    "entradas_teste = np.concatenate((entradas[35:50], entradas[85:100], entradas[135:]))\n",
    "saidas_teste = np.concatenate((saidas[35:50], saidas[85:100], saidas[135:]))\n",
    "\n",
    "print(len(entradas_teste))\n",
    "print(len(saidas_teste))"
   ]
  },
  {
   "cell_type": "code",
   "execution_count": 10,
   "metadata": {
    "collapsed": true
   },
   "outputs": [],
   "source": [
    "from pybrain.datasets import SupervisedDataSet\n",
    "from pybrain.tools.shortcuts import buildNetwork\n",
    "from pybrain.supervised import BackpropTrainer"
   ]
  },
  {
   "cell_type": "code",
   "execution_count": 13,
   "metadata": {
    "collapsed": false
   },
   "outputs": [
    {
     "name": "stdout",
     "output_type": "stream",
     "text": [
      "105\n",
      "4\n",
      "1\n"
     ]
    }
   ],
   "source": [
    "treinamento = SupervisedDataSet(4, 1)\n",
    "\n",
    "for i in range(len(entradas_treino)):\n",
    "    \n",
    "    treinamento.addSample(entradas_treino[i], saidas_treino[i])\n",
    "    \n",
    "print(len(treinamento))\n",
    "print(treinamento.indim)\n",
    "print(treinamento.outdim)"
   ]
  },
  {
   "cell_type": "code",
   "execution_count": 14,
   "metadata": {
    "collapsed": false
   },
   "outputs": [
    {
     "name": "stdout",
     "output_type": "stream",
     "text": [
      "\n",
      "Testing on data:\n",
      "('out:    ', '[0.006 ]')\n",
      "('correct:', '[0     ]')\n",
      "error:  0.00001744\n",
      "('out:    ', '[-0.006]')\n",
      "('correct:', '[0     ]')\n",
      "error:  0.00001688\n",
      "('out:    ', '[0.011 ]')\n",
      "('correct:', '[0     ]')\n",
      "error:  0.00005829\n",
      "('out:    ', '[0.008 ]')\n",
      "('correct:', '[0     ]')\n",
      "error:  0.00003492\n",
      "('out:    ', '[-0.006]')\n",
      "('correct:', '[0     ]')\n",
      "error:  0.00001858\n",
      "('out:    ', '[-0.013]')\n",
      "('correct:', '[0     ]')\n",
      "error:  0.00008794\n",
      "('out:    ', '[0.204 ]')\n",
      "('correct:', '[0     ]')\n",
      "error:  0.02084274\n",
      "('out:    ', '[-0.01 ]')\n",
      "('correct:', '[0     ]')\n",
      "error:  0.00004644\n",
      "('out:    ', '[0.008 ]')\n",
      "('correct:', '[0     ]')\n",
      "error:  0.00002939\n",
      "('out:    ', '[-0.019]')\n",
      "('correct:', '[0     ]')\n",
      "error:  0.00017976\n",
      "('out:    ', '[0.036 ]')\n",
      "('correct:', '[0     ]')\n",
      "error:  0.00065630\n",
      "('out:    ', '[-0.028]')\n",
      "('correct:', '[0     ]')\n",
      "error:  0.00038562\n",
      "('out:    ', '[-0.004]')\n",
      "('correct:', '[0     ]')\n",
      "error:  0.00000651\n",
      "('out:    ', '[-0.022]')\n",
      "('correct:', '[0     ]')\n",
      "error:  0.00023270\n",
      "('out:    ', '[-0.001]')\n",
      "('correct:', '[0     ]')\n",
      "error:  0.00000096\n",
      "('out:    ', '[0.971 ]')\n",
      "('correct:', '[1     ]')\n",
      "error:  0.00042061\n",
      "('out:    ', '[1.066 ]')\n",
      "('correct:', '[1     ]')\n",
      "error:  0.00220847\n",
      "('out:    ', '[1.2   ]')\n",
      "('correct:', '[1     ]')\n",
      "error:  0.01991848\n",
      "('out:    ', '[0.847 ]')\n",
      "('correct:', '[1     ]')\n",
      "error:  0.01177701\n",
      "('out:    ', '[1.103 ]')\n",
      "('correct:', '[1     ]')\n",
      "error:  0.00526323\n",
      "('out:    ', '[1.202 ]')\n",
      "('correct:', '[1     ]')\n",
      "error:  0.02031402\n",
      "('out:    ', '[1.106 ]')\n",
      "('correct:', '[1     ]')\n",
      "error:  0.00558034\n",
      "('out:    ', '[0.963 ]')\n",
      "('correct:', '[1     ]')\n",
      "error:  0.00066803\n",
      "('out:    ', '[0.812 ]')\n",
      "('correct:', '[1     ]')\n",
      "error:  0.01765952\n",
      "('out:    ', '[1.081 ]')\n",
      "('correct:', '[1     ]')\n",
      "error:  0.00331061\n",
      "('out:    ', '[0.815 ]')\n",
      "('correct:', '[1     ]')\n",
      "error:  0.01716502\n",
      "('out:    ', '[0.947 ]')\n",
      "('correct:', '[1     ]')\n",
      "error:  0.00137933\n",
      "('out:    ', '[0.944 ]')\n",
      "('correct:', '[1     ]')\n",
      "error:  0.00158486\n",
      "('out:    ', '[0.675 ]')\n",
      "('correct:', '[1     ]')\n",
      "error:  0.05267875\n",
      "('out:    ', '[0.959 ]')\n",
      "('correct:', '[1     ]')\n",
      "error:  0.00082403\n",
      "('out:    ', '[1.926 ]')\n",
      "('correct:', '[2     ]')\n",
      "error:  0.00271141\n",
      "('out:    ', '[1.986 ]')\n",
      "('correct:', '[2     ]')\n",
      "error:  0.00010281\n",
      "('out:    ', '[1.781 ]')\n",
      "('correct:', '[2     ]')\n",
      "error:  0.02404812\n",
      "('out:    ', '[1.539 ]')\n",
      "('correct:', '[2     ]')\n",
      "error:  0.10619357\n",
      "('out:    ', '[1.745 ]')\n",
      "('correct:', '[2     ]')\n",
      "error:  0.03246927\n",
      "('out:    ', '[2.018 ]')\n",
      "('correct:', '[2     ]')\n",
      "error:  0.00015624\n",
      "('out:    ', '[1.676 ]')\n",
      "('correct:', '[2     ]')\n",
      "error:  0.05264115\n",
      "('out:    ', '[1.909 ]')\n",
      "('correct:', '[2     ]')\n",
      "error:  0.00414591\n",
      "('out:    ', '[2.042 ]')\n",
      "('correct:', '[2     ]')\n",
      "error:  0.00090073\n",
      "('out:    ', '[2.041 ]')\n",
      "('correct:', '[2     ]')\n",
      "error:  0.00083710\n",
      "('out:    ', '[1.823 ]')\n",
      "('correct:', '[2     ]')\n",
      "error:  0.01566107\n",
      "('out:    ', '[1.749 ]')\n",
      "('correct:', '[2     ]')\n",
      "error:  0.03153032\n",
      "('out:    ', '[1.74  ]')\n",
      "('correct:', '[2     ]')\n",
      "error:  0.03388386\n",
      "('out:    ', '[1.896 ]')\n",
      "('correct:', '[2     ]')\n",
      "error:  0.00541214\n",
      "('out:    ', '[1.731 ]')\n",
      "('correct:', '[2     ]')\n",
      "error:  0.03628087\n",
      "('All errors:', [1.7443973153889817e-05, 1.6875620183964598e-05, 5.8292615116782315e-05, 3.4921114912700639e-05, 1.8584296743651383e-05, 8.7936452886962327e-05, 0.020842744901230524, 4.6442233731361787e-05, 2.9389456162500303e-05, 0.00017975988139359985, 0.0006563004869032166, 0.00038562178137166968, 6.5088701001105005e-06, 0.00023269688125951717, 9.6447786622703067e-07, 0.00042061486670705615, 0.0022084745870195161, 0.019918477915746757, 0.011777010653763161, 0.0052632328065110963, 0.020314022449015996, 0.005580343237238777, 0.00066803469921713262, 0.017659519685188287, 0.0033106081489024807, 0.017165016484509271, 0.0013793329900154685, 0.0015848638869542652, 0.052678752303124125, 0.00082403235917667629, 0.0027114072253477148, 0.0001028138571624567, 0.024048122737419124, 0.10619356957185, 0.032469265394545276, 0.00015624472881725114, 0.052641145664891295, 0.0041459118991903753, 0.00090072515254465758, 0.00083710378072819158, 0.015661065838987857, 0.031530324973837558, 0.033883860930430457, 0.0054121369232513058, 0.03628087181935017])\n",
      "('Average error:', 0.011785364235876897)\n",
      "('Max error:', 0.10619356957185, 'Median error:', 0.0015848638869542652)\n"
     ]
    },
    {
     "data": {
      "text/plain": [
       "0.011785364235876897"
      ]
     },
     "execution_count": 14,
     "metadata": {},
     "output_type": "execute_result"
    }
   ],
   "source": [
    "# Construindo a Rede\n",
    "rede = buildNetwork(treinamento.indim, 2, treinamento.outdim, bias=True)\n",
    "trainer = BackpropTrainer(rede, treinamento, learningrate=0.01, momentum=0.3)\n",
    "\n",
    "# Treinando a Rede\n",
    "for i in range(1000):\n",
    "    \n",
    "    trainer.train()\n",
    "    \n",
    "# Testando a Rede\n",
    "teste = SupervisedDataSet(4, 1)\n",
    "\n",
    "for i in range(len(entradas_teste)):\n",
    "    \n",
    "    teste.addSample(entradas_teste[i], saidas_teste[i])\n",
    "    \n",
    "trainer.testOnData(teste, verbose=True)"
   ]
  },
  {
   "cell_type": "code",
   "execution_count": 15,
   "metadata": {
    "collapsed": false
   },
   "outputs": [
    {
     "name": "stdout",
     "output_type": "stream",
     "text": [
      "\n",
      "Testing on data:\n",
      "('out:    ', '[0.018 ]')\n",
      "('correct:', '[0     ]')\n",
      "error:  0.00016592\n",
      "('out:    ', '[0.013 ]')\n",
      "('correct:', '[0     ]')\n",
      "error:  0.00008944\n",
      "('out:    ', '[0.023 ]')\n",
      "('correct:', '[0     ]')\n",
      "error:  0.00026002\n",
      "('out:    ', '[0.028 ]')\n",
      "('correct:', '[0     ]')\n",
      "error:  0.00039247\n",
      "('out:    ', '[0.019 ]')\n",
      "('correct:', '[0     ]')\n",
      "error:  0.00018098\n",
      "('out:    ', '[0.017 ]')\n",
      "('correct:', '[0     ]')\n",
      "error:  0.00015273\n",
      "('out:    ', '[0.061 ]')\n",
      "('correct:', '[0     ]')\n",
      "error:  0.00187022\n",
      "('out:    ', '[0.023 ]')\n",
      "('correct:', '[0     ]')\n",
      "error:  0.00027189\n",
      "('out:    ', '[0.035 ]')\n",
      "('correct:', '[0     ]')\n",
      "error:  0.00060347\n",
      "('out:    ', '[0.025 ]')\n",
      "('correct:', '[0     ]')\n",
      "error:  0.00030316\n",
      "('out:    ', '[0.032 ]')\n",
      "('correct:', '[0     ]')\n",
      "error:  0.00050016\n",
      "('out:    ', '[0.015 ]')\n",
      "('correct:', '[0     ]')\n",
      "error:  0.00010607\n",
      "('out:    ', '[0.024 ]')\n",
      "('correct:', '[0     ]')\n",
      "error:  0.00028888\n",
      "('out:    ', '[0.014 ]')\n",
      "('correct:', '[0     ]')\n",
      "error:  0.00009678\n",
      "('out:    ', '[0.02  ]')\n",
      "('correct:', '[0     ]')\n",
      "error:  0.00019358\n",
      "('out:    ', '[1.045 ]')\n",
      "('correct:', '[1     ]')\n",
      "error:  0.00101710\n",
      "('out:    ', '[1.105 ]')\n",
      "('correct:', '[1     ]')\n",
      "error:  0.00547686\n",
      "('out:    ', '[1.288 ]')\n",
      "('correct:', '[1     ]')\n",
      "error:  0.04159767\n",
      "('out:    ', '[0.87  ]')\n",
      "('correct:', '[1     ]')\n",
      "error:  0.00846538\n",
      "('out:    ', '[1.112 ]')\n",
      "('correct:', '[1     ]')\n",
      "error:  0.00628862\n",
      "('out:    ', '[1.172 ]')\n",
      "('correct:', '[1     ]')\n",
      "error:  0.01483557\n",
      "('out:    ', '[1.125 ]')\n",
      "('correct:', '[1     ]')\n",
      "error:  0.00777653\n",
      "('out:    ', '[0.917 ]')\n",
      "('correct:', '[1     ]')\n",
      "error:  0.00346349\n",
      "('out:    ', '[0.704 ]')\n",
      "('correct:', '[1     ]')\n",
      "error:  0.04374901\n",
      "('out:    ', '[1.085 ]')\n",
      "('correct:', '[1     ]')\n",
      "error:  0.00364605\n",
      "('out:    ', '[0.818 ]')\n",
      "('correct:', '[1     ]')\n",
      "error:  0.01658937\n",
      "('out:    ', '[0.957 ]')\n",
      "('correct:', '[1     ]')\n",
      "error:  0.00092673\n",
      "('out:    ', '[0.922 ]')\n",
      "('correct:', '[1     ]')\n",
      "error:  0.00303922\n",
      "('out:    ', '[0.547 ]')\n",
      "('correct:', '[1     ]')\n",
      "error:  0.10238984\n",
      "('out:    ', '[0.962 ]')\n",
      "('correct:', '[1     ]')\n",
      "error:  0.00073967\n",
      "('out:    ', '[2.024 ]')\n",
      "('correct:', '[2     ]')\n",
      "error:  0.00028041\n",
      "('out:    ', '[1.972 ]')\n",
      "('correct:', '[2     ]')\n",
      "error:  0.00038781\n",
      "('out:    ', '[1.745 ]')\n",
      "('correct:', '[2     ]')\n",
      "error:  0.03248600\n",
      "('out:    ', '[1.571 ]')\n",
      "('correct:', '[2     ]')\n",
      "error:  0.09216953\n",
      "('out:    ', '[1.825 ]')\n",
      "('correct:', '[2     ]')\n",
      "error:  0.01526051\n",
      "('out:    ', '[2.008 ]')\n",
      "('correct:', '[2     ]')\n",
      "error:  0.00002951\n",
      "('out:    ', '[1.839 ]')\n",
      "('correct:', '[2     ]')\n",
      "error:  0.01294429\n",
      "('out:    ', '[1.871 ]')\n",
      "('correct:', '[2     ]')\n",
      "error:  0.00830334\n",
      "('out:    ', '[2.005 ]')\n",
      "('correct:', '[2     ]')\n",
      "error:  0.00001148\n",
      "('out:    ', '[2.017 ]')\n",
      "('correct:', '[2     ]')\n",
      "error:  0.00014517\n",
      "('out:    ', '[1.912 ]')\n",
      "('correct:', '[2     ]')\n",
      "error:  0.00384873\n",
      "('out:    ', '[1.857 ]')\n",
      "('correct:', '[2     ]')\n",
      "error:  0.01020732\n",
      "('out:    ', '[1.786 ]')\n",
      "('correct:', '[2     ]')\n",
      "error:  0.02298003\n",
      "('out:    ', '[1.896 ]')\n",
      "('correct:', '[2     ]')\n",
      "error:  0.00542740\n",
      "('out:    ', '[1.702 ]')\n",
      "('correct:', '[2     ]')\n",
      "error:  0.04432189\n",
      "('All errors:', [0.00016592352335462087, 8.9437993308917965e-05, 0.00026002209993118382, 0.00039247108267148411, 0.00018097895915288165, 0.00015272963614275086, 0.0018702214142757934, 0.00027188620911596434, 0.00060347267704120931, 0.00030316374578710526, 0.00050015976426095218, 0.00010606941867058798, 0.00028887974160535007, 9.6784966973521668e-05, 0.00019358141064377443, 0.0010170990444229085, 0.0054768625711880429, 0.041597673809291004, 0.0084653803432501243, 0.0062886212473829643, 0.014835570461246183, 0.0077765330447650436, 0.0034634901183188205, 0.043749007368707876, 0.0036460542602742827, 0.016589373967654086, 0.0009267269312278881, 0.0030392248414043864, 0.10238983541466652, 0.00073967215276870939, 0.00028041310139130152, 0.00038780996181922244, 0.032485996142017248, 0.092169528909235784, 0.015260509162896679, 2.9508800885429602e-05, 0.01294429238354961, 0.008303341472633596, 1.1482478226312989e-05, 0.00014517162032899261, 0.0038487345866257843, 0.010207320659538102, 0.022980028182396878, 0.0054273990199299772, 0.044321886207590352])\n",
      "('Average error:', 0.011428451797968229)\n",
      "('Max error:', 0.10238983541466652, 'Median error:', 0.0018702214142757934)\n"
     ]
    },
    {
     "data": {
      "text/plain": [
       "0.011428451797968229"
      ]
     },
     "execution_count": 15,
     "metadata": {},
     "output_type": "execute_result"
    }
   ],
   "source": [
    "# Construindo a Rede\n",
    "rede = buildNetwork(treinamento.indim, 2, treinamento.outdim, bias=True)\n",
    "trainer = BackpropTrainer(rede, treinamento, learningrate=0.01, momentum=0.5)\n",
    "\n",
    "# Treinando a Rede\n",
    "for i in range(1000):\n",
    "    \n",
    "    trainer.train()\n",
    "    \n",
    "# Testando a Rede\n",
    "teste = SupervisedDataSet(4, 1)\n",
    "\n",
    "for i in range(len(entradas_teste)):\n",
    "    \n",
    "    teste.addSample(entradas_teste[i], saidas_teste[i])\n",
    "    \n",
    "trainer.testOnData(teste, verbose=True)"
   ]
  },
  {
   "cell_type": "code",
   "execution_count": null,
   "metadata": {
    "collapsed": true
   },
   "outputs": [],
   "source": [
    "# Construindo a Rede\n",
    "rede = buildNetwork(treinamento.indim, 2, treinamento.outdim, bias=True)\n",
    "trainer = BackpropTrainer(rede, treinamento, learningrate=0.005, momentum=0.5)\n",
    "\n",
    "# Treinando a Rede\n",
    "for i in range(2000):\n",
    "    \n",
    "    trainer.train()\n",
    "    \n",
    "# Testando a Rede\n",
    "teste = SupervisedDataSet(4, 1)\n",
    "\n",
    "for i in range(len(entradas_teste)):\n",
    "    \n",
    "    teste.addSample(entradas_teste[i], saidas_teste[i])\n",
    "    \n",
    "trainer.testOnData(teste, verbose=True)"
   ]
  },
  {
   "cell_type": "code",
   "execution_count": null,
   "metadata": {
    "collapsed": true
   },
   "outputs": [],
   "source": [
    "# Construindo a Rede\n",
    "rede = buildNetwork(treinamento.indim, 2, treinamento.outdim, bias=True)\n",
    "trainer = BackpropTrainer(rede, treinamento, learningrate=0.3, momentum=0.9)\n",
    "\n",
    "# Treinando a Rede\n",
    "for i in range(10000):\n",
    "    \n",
    "    trainer.train()\n",
    "    \n",
    "# Testando a Rede\n",
    "teste = SupervisedDataSet(4, 1)\n",
    "\n",
    "for i in range(len(entradas_teste)):\n",
    "    \n",
    "    teste.addSample(entradas_teste[i], saidas_teste[i])\n",
    "    \n",
    "trainer.testOnData(teste, verbose=True)"
   ]
  },
  {
   "cell_type": "code",
   "execution_count": null,
   "metadata": {
    "collapsed": true
   },
   "outputs": [],
   "source": [
    "# Construindo a Rede\n",
    "rede = buildNetwork(treinamento.indim, 2, treinamento.outdim, bias=True)\n",
    "trainer = BackpropTrainer(rede, treinamento, learningrate=0.01, momentum=0.7)\n",
    "\n",
    "# Treinando a Rede\n",
    "for i in range(1000):\n",
    "    \n",
    "    trainer.train()\n",
    "    \n",
    "# Testando a Rede\n",
    "teste = SupervisedDataSet(4, 1)\n",
    "\n",
    "for i in range(len(entradas_teste)):\n",
    "    \n",
    "    teste.addSample(entradas_teste[i], saidas_teste[i])\n",
    "    \n",
    "trainer.testOnData(teste, verbose=True)"
   ]
  }
 ],
 "metadata": {
  "kernelspec": {
   "display_name": "Python 3",
   "language": "python",
   "name": "python3"
  },
  "language_info": {
   "codemirror_mode": {
    "name": "ipython",
    "version": 3
   },
   "file_extension": ".py",
   "mimetype": "text/x-python",
   "name": "python",
   "nbconvert_exporter": "python",
   "pygments_lexer": "ipython3",
   "version": "3.6.0"
  }
 },
 "nbformat": 4,
 "nbformat_minor": 2
}
