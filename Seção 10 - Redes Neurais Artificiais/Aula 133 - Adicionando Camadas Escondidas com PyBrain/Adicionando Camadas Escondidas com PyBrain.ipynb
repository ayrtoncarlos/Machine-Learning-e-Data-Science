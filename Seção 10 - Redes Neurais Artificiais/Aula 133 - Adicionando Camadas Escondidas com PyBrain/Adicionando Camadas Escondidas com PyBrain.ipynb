{
 "cells": [
  {
   "cell_type": "code",
   "execution_count": 2,
   "metadata": {
    "collapsed": false
   },
   "outputs": [],
   "source": [
    "# Classificação com PyBrain - XOR de 3 dimensões\n",
    "from pybrain.datasets import SupervisedDataSet\n",
    "from pybrain.tools.shortcuts import buildNetwork\n",
    "from pybrain.supervised import BackpropTrainer"
   ]
  },
  {
   "cell_type": "code",
   "execution_count": 5,
   "metadata": {
    "collapsed": true
   },
   "outputs": [],
   "source": [
    "# Criando Camadas\n",
    "dataset = SupervisedDataSet(3, 1)"
   ]
  },
  {
   "cell_type": "code",
   "execution_count": 6,
   "metadata": {
    "collapsed": true
   },
   "outputs": [],
   "source": [
    "# Tabela verdade (XOR de 3 dimensões)\n",
    "dataset.addSample([0,0,0], [0])\n",
    "dataset.addSample([0,0,1], [1])\n",
    "dataset.addSample([0,1,0], [1])\n",
    "dataset.addSample([0,1,1], [0])\n",
    "dataset.addSample([1,0,0], [1])\n",
    "dataset.addSample([1,0,1], [0])\n",
    "dataset.addSample([1,1,0], [0])\n",
    "dataset.addSample([1,1,1], [1])"
   ]
  },
  {
   "cell_type": "code",
   "execution_count": 8,
   "metadata": {
    "collapsed": false
   },
   "outputs": [
    {
     "name": "stdout",
     "output_type": "stream",
     "text": [
      "\n",
      "Testing on data:\n",
      "('out:    ', '[0.417 ]')\n",
      "('correct:', '[0     ]')\n",
      "error:  0.08673734\n",
      "('out:    ', '[0.489 ]')\n",
      "('correct:', '[1     ]')\n",
      "error:  0.13063340\n",
      "('out:    ', '[0.503 ]')\n",
      "('correct:', '[1     ]')\n",
      "error:  0.12371286\n",
      "('out:    ', '[0.524 ]')\n",
      "('correct:', '[0     ]')\n",
      "error:  0.13733719\n",
      "('out:    ', '[0.489 ]')\n",
      "('correct:', '[1     ]')\n",
      "error:  0.13057885\n",
      "('out:    ', '[0.508 ]')\n",
      "('correct:', '[0     ]')\n",
      "error:  0.12900106\n",
      "('out:    ', '[0.529 ]')\n",
      "('correct:', '[0     ]')\n",
      "error:  0.13974083\n",
      "('out:    ', '[0.532 ]')\n",
      "('correct:', '[1     ]')\n",
      "error:  0.10947163\n",
      "('All errors:', [0.086737337451647981, 0.13063339705644578, 0.12371285838324066, 0.13733718907705536, 0.13057885243281997, 0.12900105947506113, 0.13974082776128752, 0.10947163021434043])\n",
      "('Average error:', 0.12340164398148736)\n",
      "('Max error:', 0.13974082776128752, 'Median error:', 0.13057885243281997)\n"
     ]
    },
    {
     "data": {
      "text/plain": [
       "0.12340164398148736"
      ]
     },
     "execution_count": 8,
     "metadata": {},
     "output_type": "execute_result"
    }
   ],
   "source": [
    "# Criando Rede\n",
    "network = buildNetwork(dataset.indim, 4, 4, dataset.outdim, bias=True)\n",
    "\n",
    "# Criando Treino\n",
    "trainer = BackpropTrainer(network, dataset, learningrate=0.01, momentum=0.9)\n",
    "\n",
    "# Treinando\n",
    "for i in range(1000):\n",
    "    \n",
    "    trainer.train()\n",
    "\n",
    "# Criando Teste\n",
    "teste = SupervisedDataSet(3, 1)\n",
    "\n",
    "# Tabela verdade (XOR de 3 dimensões)\n",
    "teste.addSample([0,0,0], [0])\n",
    "teste.addSample([0,0,1], [1])\n",
    "teste.addSample([0,1,0], [1])\n",
    "teste.addSample([0,1,1], [0])\n",
    "teste.addSample([1,0,0], [1])\n",
    "teste.addSample([1,0,1], [0])\n",
    "teste.addSample([1,1,0], [0])\n",
    "teste.addSample([1,1,1], [1])\n",
    "\n",
    "trainer.testOnData(teste, verbose=True)"
   ]
  },
  {
   "cell_type": "code",
   "execution_count": 9,
   "metadata": {
    "collapsed": false
   },
   "outputs": [
    {
     "name": "stdout",
     "output_type": "stream",
     "text": [
      "\n",
      "Testing on data:\n",
      "('out:    ', '[0     ]')\n",
      "('correct:', '[0     ]')\n",
      "error:  0.00000000\n",
      "('out:    ', '[1     ]')\n",
      "('correct:', '[1     ]')\n",
      "error:  0.00000000\n",
      "('out:    ', '[1     ]')\n",
      "('correct:', '[1     ]')\n",
      "error:  0.00000000\n",
      "('out:    ', '[0     ]')\n",
      "('correct:', '[0     ]')\n",
      "error:  0.00000000\n",
      "('out:    ', '[1     ]')\n",
      "('correct:', '[1     ]')\n",
      "error:  0.00000000\n",
      "('out:    ', '[-0    ]')\n",
      "('correct:', '[0     ]')\n",
      "error:  0.00000000\n",
      "('out:    ', '[0     ]')\n",
      "('correct:', '[0     ]')\n",
      "error:  0.00000000\n",
      "('out:    ', '[1     ]')\n",
      "('correct:', '[1     ]')\n",
      "error:  0.00000000\n",
      "('All errors:', [4.0399808628157858e-11, 4.517317924366876e-12, 2.9563752183346095e-11, 1.5605531117679028e-11, 2.6757893988593443e-11, 5.0879520414914222e-12, 2.1347646321056135e-11, 4.5253735341472389e-14])\n",
      "('Average error:', 1.7915644492504038e-11)\n",
      "('Max error:', 4.0399808628157858e-11, 'Median error:', 2.1347646321056135e-11)\n"
     ]
    },
    {
     "data": {
      "text/plain": [
       "1.7915644492504038e-11"
      ]
     },
     "execution_count": 9,
     "metadata": {},
     "output_type": "execute_result"
    }
   ],
   "source": [
    "# Criando Rede\n",
    "network = buildNetwork(dataset.indim, 6, 6, dataset.outdim, bias=True)\n",
    "\n",
    "# Criando Treino\n",
    "trainer = BackpropTrainer(network, dataset, learningrate=0.01, momentum=0.9)\n",
    "\n",
    "# Treinando\n",
    "for i in range(1000):\n",
    "    \n",
    "    trainer.train()\n",
    "\n",
    "# Criando Teste\n",
    "teste = SupervisedDataSet(3, 1)\n",
    "\n",
    "# Tabela verdade (XOR de 3 dimensões)\n",
    "teste.addSample([0,0,0], [0])\n",
    "teste.addSample([0,0,1], [1])\n",
    "teste.addSample([0,1,0], [1])\n",
    "teste.addSample([0,1,1], [0])\n",
    "teste.addSample([1,0,0], [1])\n",
    "teste.addSample([1,0,1], [0])\n",
    "teste.addSample([1,1,0], [0])\n",
    "teste.addSample([1,1,1], [1])\n",
    "\n",
    "trainer.testOnData(teste, verbose=True)"
   ]
  },
  {
   "cell_type": "code",
   "execution_count": 10,
   "metadata": {
    "collapsed": false
   },
   "outputs": [
    {
     "name": "stdout",
     "output_type": "stream",
     "text": [
      "\n",
      "Testing on data:\n",
      "('out:    ', '[0     ]')\n",
      "('correct:', '[0     ]')\n",
      "error:  0.00000000\n",
      "('out:    ', '[1     ]')\n",
      "('correct:', '[1     ]')\n",
      "error:  0.00000000\n",
      "('out:    ', '[1     ]')\n",
      "('correct:', '[1     ]')\n",
      "error:  0.00000000\n",
      "('out:    ', '[0     ]')\n",
      "('correct:', '[0     ]')\n",
      "error:  0.00000000\n",
      "('out:    ', '[1     ]')\n",
      "('correct:', '[1     ]')\n",
      "error:  0.00000000\n",
      "('out:    ', '[-0    ]')\n",
      "('correct:', '[0     ]')\n",
      "error:  0.00000000\n",
      "('out:    ', '[0     ]')\n",
      "('correct:', '[0     ]')\n",
      "error:  0.00000000\n",
      "('out:    ', '[1     ]')\n",
      "('correct:', '[1     ]')\n",
      "error:  0.00000000\n",
      "('All errors:', [1.0107677382454109e-24, 6.2479361415314577e-26, 1.8757812924333342e-24, 8.6828701109207961e-26, 2.1505235744843155e-26, 6.7359211988255397e-25, 1.0535953835165925e-26, 2.9461117375936324e-25])\n",
      "('Average error:', 5.0451269705314924e-25)\n",
      "('Max error:', 1.8757812924333342e-24, 'Median error:', 2.9461117375936324e-25)\n"
     ]
    },
    {
     "data": {
      "text/plain": [
       "5.0451269705314924e-25"
      ]
     },
     "execution_count": 10,
     "metadata": {},
     "output_type": "execute_result"
    }
   ],
   "source": [
    "# Criando Rede\n",
    "network = buildNetwork(dataset.indim, 6, 6, dataset.outdim, bias=True)\n",
    "\n",
    "# Criando Treino\n",
    "trainer = BackpropTrainer(network, dataset, learningrate=0.01, momentum=0.9)\n",
    "\n",
    "# Treinando\n",
    "for i in range(1500):\n",
    "    \n",
    "    trainer.train()\n",
    "\n",
    "# Criando Teste\n",
    "teste = SupervisedDataSet(3, 1)\n",
    "\n",
    "# Tabela verdade (XOR de 3 dimensões)\n",
    "teste.addSample([0,0,0], [0])\n",
    "teste.addSample([0,0,1], [1])\n",
    "teste.addSample([0,1,0], [1])\n",
    "teste.addSample([0,1,1], [0])\n",
    "teste.addSample([1,0,0], [1])\n",
    "teste.addSample([1,0,1], [0])\n",
    "teste.addSample([1,1,0], [0])\n",
    "teste.addSample([1,1,1], [1])\n",
    "\n",
    "trainer.testOnData(teste, verbose=True)"
   ]
  },
  {
   "cell_type": "code",
   "execution_count": 11,
   "metadata": {
    "collapsed": false
   },
   "outputs": [
    {
     "name": "stdout",
     "output_type": "stream",
     "text": [
      "\n",
      "Testing on data:\n",
      "('out:    ', '[0.485 ]')\n",
      "('correct:', '[0     ]')\n",
      "error:  0.11767869\n",
      "('out:    ', '[0.484 ]')\n",
      "('correct:', '[1     ]')\n",
      "error:  0.13316594\n",
      "('out:    ', '[0.474 ]')\n",
      "('correct:', '[1     ]')\n",
      "error:  0.13811016\n",
      "('out:    ', '[0.474 ]')\n",
      "('correct:', '[0     ]')\n",
      "error:  0.11217265\n",
      "('out:    ', '[0.487 ]')\n",
      "('correct:', '[1     ]')\n",
      "error:  0.13153538\n",
      "('out:    ', '[0.485 ]')\n",
      "('correct:', '[0     ]')\n",
      "error:  0.11784675\n",
      "('out:    ', '[0.478 ]')\n",
      "('correct:', '[0     ]')\n",
      "error:  0.11413518\n",
      "('out:    ', '[0.476 ]')\n",
      "('correct:', '[1     ]')\n",
      "error:  0.13723753\n",
      "('All errors:', [0.11767868604823783, 0.13316594449498917, 0.13811015923043721, 0.11217265164152707, 0.13153538298214168, 0.11784675120880256, 0.11413517708598114, 0.13723753380165504])\n",
      "('Average error:', 0.1252352858117215)\n",
      "('Max error:', 0.13811015923043721, 'Median error:', 0.13153538298214168)\n"
     ]
    },
    {
     "data": {
      "text/plain": [
       "0.1252352858117215"
      ]
     },
     "execution_count": 11,
     "metadata": {},
     "output_type": "execute_result"
    }
   ],
   "source": [
    "# Criando Rede\n",
    "network = buildNetwork(dataset.indim, 2, dataset.outdim, bias=True)\n",
    "\n",
    "# Criando Treino\n",
    "trainer = BackpropTrainer(network, dataset, learningrate=0.01, momentum=0.9)\n",
    "\n",
    "# Treinando\n",
    "for i in range(1500):\n",
    "    \n",
    "    trainer.train()\n",
    "\n",
    "# Criando Teste\n",
    "teste = SupervisedDataSet(3, 1)\n",
    "\n",
    "# Tabela verdade (XOR de 3 dimensões)\n",
    "teste.addSample([0,0,0], [0])\n",
    "teste.addSample([0,0,1], [1])\n",
    "teste.addSample([0,1,0], [1])\n",
    "teste.addSample([0,1,1], [0])\n",
    "teste.addSample([1,0,0], [1])\n",
    "teste.addSample([1,0,1], [0])\n",
    "teste.addSample([1,1,0], [0])\n",
    "teste.addSample([1,1,1], [1])\n",
    "\n",
    "trainer.testOnData(teste, verbose=True)"
   ]
  },
  {
   "cell_type": "code",
   "execution_count": 12,
   "metadata": {
    "collapsed": false
   },
   "outputs": [
    {
     "name": "stdout",
     "output_type": "stream",
     "text": [
      "\n",
      "Testing on data:\n",
      "('out:    ', '[0     ]')\n",
      "('correct:', '[0     ]')\n",
      "error:  0.00000000\n",
      "('out:    ', '[1     ]')\n",
      "('correct:', '[1     ]')\n",
      "error:  0.00000000\n",
      "('out:    ', '[1     ]')\n",
      "('correct:', '[1     ]')\n",
      "error:  0.00000000\n",
      "('out:    ', '[-0    ]')\n",
      "('correct:', '[0     ]')\n",
      "error:  0.00000000\n",
      "('out:    ', '[1     ]')\n",
      "('correct:', '[1     ]')\n",
      "error:  0.00000000\n",
      "('out:    ', '[-0    ]')\n",
      "('correct:', '[0     ]')\n",
      "error:  0.00000000\n",
      "('out:    ', '[0     ]')\n",
      "('correct:', '[0     ]')\n",
      "error:  0.00000000\n",
      "('out:    ', '[1     ]')\n",
      "('correct:', '[1     ]')\n",
      "error:  0.00000000\n",
      "('All errors:', [1.3715211592031555e-11, 5.0005572339643525e-12, 1.60529728333755e-13, 2.7072137911119246e-11, 3.156706242384344e-11, 9.4688730506214191e-16, 5.1833186261083855e-12, 2.1548491494107619e-11])\n",
      "('Average error:', 1.3031031987101678e-11)\n",
      "('Max error:', 3.156706242384344e-11, 'Median error:', 1.3715211592031555e-11)\n"
     ]
    },
    {
     "data": {
      "text/plain": [
       "1.3031031987101678e-11"
      ]
     },
     "execution_count": 12,
     "metadata": {},
     "output_type": "execute_result"
    }
   ],
   "source": [
    "# Criando Rede\n",
    "network = buildNetwork(dataset.indim, 12, dataset.outdim, bias=True)\n",
    "\n",
    "# Criando Treino\n",
    "trainer = BackpropTrainer(network, dataset, learningrate=0.01, momentum=0.9)\n",
    "\n",
    "# Treinando\n",
    "for i in range(1500):\n",
    "    \n",
    "    trainer.train()\n",
    "\n",
    "# Criando Teste\n",
    "teste = SupervisedDataSet(3, 1)\n",
    "\n",
    "# Tabela verdade (XOR de 3 dimensões)\n",
    "teste.addSample([0,0,0], [0])\n",
    "teste.addSample([0,0,1], [1])\n",
    "teste.addSample([0,1,0], [1])\n",
    "teste.addSample([0,1,1], [0])\n",
    "teste.addSample([1,0,0], [1])\n",
    "teste.addSample([1,0,1], [0])\n",
    "teste.addSample([1,1,0], [0])\n",
    "teste.addSample([1,1,1], [1])\n",
    "\n",
    "trainer.testOnData(teste, verbose=True)"
   ]
  },
  {
   "cell_type": "code",
   "execution_count": null,
   "metadata": {
    "collapsed": true
   },
   "outputs": [],
   "source": []
  }
 ],
 "metadata": {
  "kernelspec": {
   "display_name": "Python 3",
   "language": "python",
   "name": "python3"
  },
  "language_info": {
   "codemirror_mode": {
    "name": "ipython",
    "version": 3
   },
   "file_extension": ".py",
   "mimetype": "text/x-python",
   "name": "python",
   "nbconvert_exporter": "python",
   "pygments_lexer": "ipython3",
   "version": "3.6.0"
  }
 },
 "nbformat": 4,
 "nbformat_minor": 2
}
