{
 "cells": [
  {
   "cell_type": "code",
   "execution_count": 2,
   "metadata": {
    "collapsed": false
   },
   "outputs": [
    {
     "name": "stdout",
     "output_type": "stream",
     "text": [
      "[[-1, 0, 0], [-1, 0, 1], [-1, 1, 0], [-1, 1, 1]]\n"
     ]
    }
   ],
   "source": [
    "# Implementação Perceptron.\n",
    "\n",
    "import random\n",
    "\n",
    "class Perceptron:\n",
    "    \n",
    "    def __init__(self, amostras, saidas, taxa_aprendizado=0.1, epocas=1000, limiar=-1):\n",
    "        \n",
    "        self.amostras = amostras\n",
    "        self.saidas = saidas\n",
    "        self.taxa_aprendizado = taxa_aprendizado\n",
    "        self.epocas = epocas\n",
    "        self.limiar = limiar\n",
    "        self.n_amostras = len(amostras)\n",
    "        self.n_atributos = len(amostras[0])\n",
    "        self.pesos = []\n",
    "        \n",
    "    def treinar(self):\n",
    "        \n",
    "        for amostra in self.amostras:\n",
    "            \n",
    "            amostra.insert(0, -1)\n",
    "        \n",
    "        for i in range(self.n_atributos):\n",
    "            \n",
    "            self.pesos.append(random.random())\n",
    "            \n",
    "        self.pesos.insert(0, limiar)\n",
    "        n_epocas = 0 # Contador de épocas.\n",
    "        \n",
    "        while True:\n",
    "            \n",
    "            erro = False # O erro inicialmente inexiste.\n",
    "            \n",
    "            if not erro:\n",
    "                \n",
    "                break\n",
    "#OR\n",
    "amostras = [[0, 0], [0, 1], [1, 0], [1, 1]]\n",
    "saidas = [0, 1, 1, 1]\n",
    "rede = Perceptron(amostras, saidas)\n",
    "rede.treinar()"
   ]
  },
  {
   "cell_type": "code",
   "execution_count": null,
   "metadata": {
    "collapsed": true
   },
   "outputs": [],
   "source": []
  }
 ],
 "metadata": {
  "kernelspec": {
   "display_name": "Python 3",
   "language": "python",
   "name": "python3"
  },
  "language_info": {
   "codemirror_mode": {
    "name": "ipython",
    "version": 3
   },
   "file_extension": ".py",
   "mimetype": "text/x-python",
   "name": "python",
   "nbconvert_exporter": "python",
   "pygments_lexer": "ipython3",
   "version": "3.6.0"
  }
 },
 "nbformat": 4,
 "nbformat_minor": 2
}
