{
 "cells": [
  {
   "cell_type": "code",
   "execution_count": 6,
   "metadata": {
    "collapsed": false
   },
   "outputs": [
    {
     "name": "stdout",
     "output_type": "stream",
     "text": [
      "False\n",
      "True\n",
      "False\n",
      "False\n",
      "True\n",
      "True\n"
     ]
    }
   ],
   "source": [
    "# == igualdade\n",
    "# > maior que\n",
    "# >= maior ou igual\n",
    "# < menor que\n",
    "# <= menor ou igual\n",
    "# != diferente\n",
    "\n",
    "n1 = 10\n",
    "n2 = 20\n",
    "print(n1 > n2)\n",
    "print(n1 < n2)\n",
    "print(n1 == n2)\n",
    "print(n1 >= n2)\n",
    "print(n1 <= n2)\n",
    "print(n1 != n2)"
   ]
  },
  {
   "cell_type": "code",
   "execution_count": 8,
   "metadata": {
    "collapsed": false
   },
   "outputs": [
    {
     "name": "stdout",
     "output_type": "stream",
     "text": [
      "True\n",
      "False\n"
     ]
    }
   ],
   "source": [
    "a1 = 10\n",
    "a2 = 10\n",
    "print(a1 == a2)\n",
    "print(a1 != a2)"
   ]
  },
  {
   "cell_type": "code",
   "execution_count": 10,
   "metadata": {
    "collapsed": false
   },
   "outputs": [
    {
     "name": "stdout",
     "output_type": "stream",
     "text": [
      "False\n"
     ]
    }
   ],
   "source": [
    "media_aluno = 6.5\n",
    "media_aprovado = 7.0\n",
    "resultado = media_aluno >= media_aprovado\n",
    "print(resultado)"
   ]
  },
  {
   "cell_type": "code",
   "execution_count": 17,
   "metadata": {
    "collapsed": false
   },
   "outputs": [
    {
     "name": "stdout",
     "output_type": "stream",
     "text": [
      "30\n",
      "-10\n",
      "200\n",
      "2.0\n",
      "2\n",
      "10\n"
     ]
    }
   ],
   "source": [
    "v1 = 10\n",
    "v2 = 20\n",
    "print(v1 + v2)\n",
    "print(v1 - v2)\n",
    "print(v1 * v2)\n",
    "print(v2 / v1)\n",
    "print(v2 // v1)\n",
    "print(v1 % v2)"
   ]
  },
  {
   "cell_type": "code",
   "execution_count": 20,
   "metadata": {
    "collapsed": false
   },
   "outputs": [
    {
     "name": "stdout",
     "output_type": "stream",
     "text": [
      "1024\n"
     ]
    }
   ],
   "source": [
    "base = 2\n",
    "expoente = 10\n",
    "resultado = base ** expoente\n",
    "print(resultado)"
   ]
  },
  {
   "cell_type": "code",
   "execution_count": 41,
   "metadata": {
    "collapsed": false
   },
   "outputs": [
    {
     "name": "stdout",
     "output_type": "stream",
     "text": [
      "Exemplo operador (not)\n",
      "Tabela Verdade\n",
      "True | False\n",
      "False | True\n",
      "\n",
      "Exemplo operador (and)\n",
      "Tabela Verdade\n",
      "True | True | True\n",
      "True | False | False\n",
      "False | True | False\n",
      "False | False | False\n",
      "\n",
      "Exemplo operador (or)\n",
      "Tabela Verdade\n",
      "True | True | True\n",
      "True | False | True\n",
      "False | True | True\n",
      "False | False | False\n"
     ]
    }
   ],
   "source": [
    "# Operadores lógicos\n",
    "\n",
    "# not --> não (negação)\n",
    "# and --> e (conjunção)\n",
    "# or --> ou (disjunção)\n",
    "\n",
    "# Exemplo operador (not):\n",
    "\n",
    "print(\"Exemplo operador (not)\")\n",
    "print(\"Tabela Verdade\")\n",
    "verdadeiro = True\n",
    "print(\"True | %s\" % str(not verdadeiro))\n",
    "print(\"False | %s\" % str(verdadeiro))\n",
    "print()\n",
    "\n",
    "# Exemplo operador (and):\n",
    "\n",
    "case1 = True and True\n",
    "case2 = True and False\n",
    "case3 = False and True\n",
    "case4 = False and False\n",
    "print(\"Exemplo operador (and)\")\n",
    "print(\"Tabela Verdade\")\n",
    "print(\"True | True | %s\" % str(case1))\n",
    "print(\"True | False | %s\" % str(case2))\n",
    "print(\"False | True | %s\" % str(case3))\n",
    "print(\"False | False | %s\" % str(case4))\n",
    "print()\n",
    "\n",
    "# Exemplo operador (or):\n",
    "\n",
    "case1 = True or True\n",
    "case2 = True or False\n",
    "case3 = False or True\n",
    "case4 = False or False\n",
    "print(\"Exemplo operador (or)\")\n",
    "print(\"Tabela Verdade\")\n",
    "print(\"True | True | %s\" % str(case1))\n",
    "print(\"True | False | %s\" % str(case2))\n",
    "print(\"False | True | %s\" % str(case3))\n",
    "print(\"False | False | %s\" % str(case4))"
   ]
  },
  {
   "cell_type": "code",
   "execution_count": 44,
   "metadata": {
    "collapsed": false
   },
   "outputs": [
    {
     "data": {
      "text/plain": [
       "True"
      ]
     },
     "execution_count": 44,
     "metadata": {},
     "output_type": "execute_result"
    }
   ],
   "source": [
    "True or False and not True\n",
    "# Primeiro fazer o not\n",
    "# Depois olhar o and\n",
    "# e por fim o or"
   ]
  },
  {
   "cell_type": "code",
   "execution_count": 45,
   "metadata": {
    "collapsed": false
   },
   "outputs": [
    {
     "data": {
      "text/plain": [
       "False"
      ]
     },
     "execution_count": 45,
     "metadata": {},
     "output_type": "execute_result"
    }
   ],
   "source": [
    "salario = 1000\n",
    "salario > 5000"
   ]
  }
 ],
 "metadata": {
  "kernelspec": {
   "display_name": "Python 3",
   "language": "python",
   "name": "python3"
  },
  "language_info": {
   "codemirror_mode": {
    "name": "ipython",
    "version": 3
   },
   "file_extension": ".py",
   "mimetype": "text/x-python",
   "name": "python",
   "nbconvert_exporter": "python",
   "pygments_lexer": "ipython3",
   "version": "3.6.0"
  }
 },
 "nbformat": 4,
 "nbformat_minor": 2
}
