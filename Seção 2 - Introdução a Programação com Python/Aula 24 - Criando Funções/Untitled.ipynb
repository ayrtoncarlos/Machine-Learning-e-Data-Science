{
 "cells": [
  {
   "cell_type": "code",
   "execution_count": 6,
   "metadata": {
    "collapsed": false
   },
   "outputs": [
    {
     "name": "stdout",
     "output_type": "stream",
     "text": [
      "11\n",
      "12\n"
     ]
    }
   ],
   "source": [
    "def somar(n1, n2):\n",
    "    return n1 + n2\n",
    "\n",
    "print(somar(4, 7))\n",
    "print(somar(5, 7))"
   ]
  },
  {
   "cell_type": "code",
   "execution_count": 8,
   "metadata": {
    "collapsed": false
   },
   "outputs": [
    {
     "name": "stdout",
     "output_type": "stream",
     "text": [
      "Eu sou uma função.\n",
      "Aprendendo python.\n"
     ]
    }
   ],
   "source": [
    "def imprimir():\n",
    "    \n",
    "    print(\"Eu sou uma função.\")\n",
    "    print(\"Aprendendo python.\")\n",
    "    \n",
    "imprimir()"
   ]
  },
  {
   "cell_type": "code",
   "execution_count": 10,
   "metadata": {
    "collapsed": false
   },
   "outputs": [
    {
     "name": "stdout",
     "output_type": "stream",
     "text": [
      "True\n",
      "False\n",
      "False\n"
     ]
    }
   ],
   "source": [
    "def eh_par(x):\n",
    "    return x % 2 == 0\n",
    "\n",
    "print(eh_par(10))\n",
    "print(eh_par(17))\n",
    "print(eh_par(13))"
   ]
  },
  {
   "cell_type": "code",
   "execution_count": 14,
   "metadata": {
    "collapsed": false
   },
   "outputs": [
    {
     "name": "stdout",
     "output_type": "stream",
     "text": [
      "13\n",
      "69\n"
     ]
    }
   ],
   "source": [
    "def foo(*args):\n",
    "    \n",
    "    return sum(args)\n",
    "\n",
    "print(foo(1, 5, 4, 3))\n",
    "print(foo(23, 23, 23))"
   ]
  },
  {
   "cell_type": "code",
   "execution_count": 17,
   "metadata": {
    "collapsed": false
   },
   "outputs": [
    {
     "name": "stdout",
     "output_type": "stream",
     "text": [
      "10\n",
      "6\n"
     ]
    }
   ],
   "source": [
    "def foo(*args):\n",
    "    \n",
    "    return sum(*args)\n",
    "\n",
    "print(foo([1, 2, 3, 4]))\n",
    "print(foo([1, 2, 3]))"
   ]
  },
  {
   "cell_type": "code",
   "execution_count": 19,
   "metadata": {
    "collapsed": false
   },
   "outputs": [
    {
     "name": "stdout",
     "output_type": "stream",
     "text": [
      "Essa eu não sabia!\n"
     ]
    }
   ],
   "source": [
    "imprimir = print\n",
    "imprimir(\"Essa eu não sabia!\")"
   ]
  },
  {
   "cell_type": "code",
   "execution_count": 21,
   "metadata": {
    "collapsed": false
   },
   "outputs": [
    {
     "data": {
      "text/plain": [
       "120"
      ]
     },
     "execution_count": 21,
     "metadata": {},
     "output_type": "execute_result"
    }
   ],
   "source": [
    "# fatorial --> 5! = 5 * 4 * 3 * 2 * 1 = 120\n",
    "\n",
    "def fatorial(n):\n",
    "    \n",
    "    if n == 0 or n == 1:\n",
    "        \n",
    "        return 1\n",
    "    \n",
    "    return n * fatorial(n - 1)\n",
    "\n",
    "fatorial(5)"
   ]
  },
  {
   "cell_type": "code",
   "execution_count": 25,
   "metadata": {
    "collapsed": false
   },
   "outputs": [
    {
     "name": "stdout",
     "output_type": "stream",
     "text": [
      "Desconhecido\n",
      "Ayrton\n"
     ]
    }
   ],
   "source": [
    "def imprimir_nome(nome = \"Desconhecido\"):\n",
    "    \n",
    "    return nome\n",
    "\n",
    "print(imprimir_nome())\n",
    "print(imprimir_nome(\"Ayrton\"))"
   ]
  },
  {
   "cell_type": "code",
   "execution_count": 28,
   "metadata": {
    "collapsed": false
   },
   "outputs": [
    {
     "data": {
      "text/plain": [
       "60"
      ]
     },
     "execution_count": 28,
     "metadata": {},
     "output_type": "execute_result"
    }
   ],
   "source": [
    "def somar(x, y, z, f):\n",
    "    return x + f(y, z)\n",
    "\n",
    "def f(n1, n2):\n",
    "    return n1 + n2\n",
    "\n",
    "somar(30, 20, 10, f)"
   ]
  },
  {
   "cell_type": "code",
   "execution_count": null,
   "metadata": {
    "collapsed": true
   },
   "outputs": [],
   "source": [
    "a = lambda x: x * 2"
   ]
  }
 ],
 "metadata": {
  "kernelspec": {
   "display_name": "Python 3",
   "language": "python",
   "name": "python3"
  },
  "language_info": {
   "codemirror_mode": {
    "name": "ipython",
    "version": 3
   },
   "file_extension": ".py",
   "mimetype": "text/x-python",
   "name": "python",
   "nbconvert_exporter": "python",
   "pygments_lexer": "ipython3",
   "version": "3.6.0"
  }
 },
 "nbformat": 4,
 "nbformat_minor": 2
}
