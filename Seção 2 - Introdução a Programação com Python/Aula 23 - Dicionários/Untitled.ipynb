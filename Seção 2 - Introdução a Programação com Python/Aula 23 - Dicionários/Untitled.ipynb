{
 "cells": [
  {
   "cell_type": "code",
   "execution_count": 4,
   "metadata": {
    "collapsed": false
   },
   "outputs": [
    {
     "name": "stdout",
     "output_type": "stream",
     "text": [
      "{'Ayrton': 22, 'Carol': 23, 'Cayo': 9}\n",
      "22\n"
     ]
    }
   ],
   "source": [
    "dicionario = {\"Ayrton\": 22, \"Carol\": 23, \"Cayo\": 9}\n",
    "print(dicionario)\n",
    "print(dicionario[\"Ayrton\"])"
   ]
  },
  {
   "cell_type": "code",
   "execution_count": 10,
   "metadata": {
    "collapsed": false
   },
   "outputs": [
    {
     "name": "stdout",
     "output_type": "stream",
     "text": [
      "22 23 9 dict_items([('Ayrton', 22), ('Carol', 23), ('Cayo', 9)])\n",
      "dict_keys(['Ayrton', 'Carol', 'Cayo'])\n",
      "dict_values([22, 23, 9])\n",
      "True\n",
      "False\n"
     ]
    }
   ],
   "source": [
    "dicionario = {\"Ayrton\": 22, \"Carol\": 23, \"Cayo\": 9}\n",
    "\n",
    "for i in dicionario:\n",
    "    \n",
    "    print(dicionario[i], end=\" \")\n",
    "    \n",
    "print(dicionario.items())\n",
    "print(dicionario.keys())\n",
    "print(dicionario.values())\n",
    "print(\"Carol\" in dicionario)\n",
    "print(\"Henrique\" in dicionario)"
   ]
  }
 ],
 "metadata": {
  "kernelspec": {
   "display_name": "Python 3",
   "language": "python",
   "name": "python3"
  },
  "language_info": {
   "codemirror_mode": {
    "name": "ipython",
    "version": 3
   },
   "file_extension": ".py",
   "mimetype": "text/x-python",
   "name": "python",
   "nbconvert_exporter": "python",
   "pygments_lexer": "ipython3",
   "version": "3.6.0"
  }
 },
 "nbformat": 4,
 "nbformat_minor": 2
}
