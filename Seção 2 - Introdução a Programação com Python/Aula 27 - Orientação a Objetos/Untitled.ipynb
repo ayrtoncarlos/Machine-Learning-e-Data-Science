{
 "cells": [
  {
   "cell_type": "code",
   "execution_count": 6,
   "metadata": {
    "collapsed": false
   },
   "outputs": [
    {
     "data": {
      "text/plain": [
       "'Ayrton'"
      ]
     },
     "execution_count": 6,
     "metadata": {},
     "output_type": "execute_result"
    }
   ],
   "source": [
    "class Pessoa:\n",
    "    \n",
    "    def __init__(self, nome, idade):\n",
    "        \n",
    "        self.nome = nome\n",
    "        self.idade = idade\n",
    "        \n",
    "    def imprimir_nome(self):\n",
    "        \n",
    "        return self.nome\n",
    "\n",
    "p = Pessoa(\"Ayrton\", 22)\n",
    "p.imprimir_nome()"
   ]
  },
  {
   "cell_type": "code",
   "execution_count": 11,
   "metadata": {
    "collapsed": false
   },
   "outputs": [
    {
     "data": {
      "text/plain": [
       "['__call__',\n",
       " '__class__',\n",
       " '__delattr__',\n",
       " '__dir__',\n",
       " '__doc__',\n",
       " '__eq__',\n",
       " '__format__',\n",
       " '__ge__',\n",
       " '__getattribute__',\n",
       " '__gt__',\n",
       " '__hash__',\n",
       " '__init__',\n",
       " '__init_subclass__',\n",
       " '__le__',\n",
       " '__lt__',\n",
       " '__module__',\n",
       " '__name__',\n",
       " '__ne__',\n",
       " '__new__',\n",
       " '__qualname__',\n",
       " '__reduce__',\n",
       " '__reduce_ex__',\n",
       " '__repr__',\n",
       " '__self__',\n",
       " '__setattr__',\n",
       " '__sizeof__',\n",
       " '__str__',\n",
       " '__subclasshook__',\n",
       " '__text_signature__']"
      ]
     },
     "execution_count": 11,
     "metadata": {},
     "output_type": "execute_result"
    }
   ],
   "source": [
    "dir(bin)"
   ]
  },
  {
   "cell_type": "code",
   "execution_count": 13,
   "metadata": {
    "collapsed": false
   },
   "outputs": [
    {
     "name": "stdout",
     "output_type": "stream",
     "text": [
      "666\n",
      "666\n"
     ]
    }
   ],
   "source": [
    "class Conta:\n",
    "    \n",
    "    def __init__(self, cliente, numero):\n",
    "        \n",
    "        self.cliente = cliente\n",
    "        self.numero = numero\n",
    "        \n",
    "class ContaEspecial(Conta):\n",
    "    \n",
    "    def __init__(self, cliente, numero, limite = 0):\n",
    "        \n",
    "        Conta.__init__(self, cliente, numero)\n",
    "        self.limite = limite\n",
    "        \n",
    "conta = ContaEspecial(\"Ayrton\", \"666\", 666)\n",
    "print(conta.limite)\n",
    "conta = Conta(\"Ayrton\", \"666\")\n",
    "print(conta.numero)"
   ]
  }
 ],
 "metadata": {
  "kernelspec": {
   "display_name": "Python 3",
   "language": "python",
   "name": "python3"
  },
  "language_info": {
   "codemirror_mode": {
    "name": "ipython",
    "version": 3
   },
   "file_extension": ".py",
   "mimetype": "text/x-python",
   "name": "python",
   "nbconvert_exporter": "python",
   "pygments_lexer": "ipython3",
   "version": "3.6.0"
  }
 },
 "nbformat": 4,
 "nbformat_minor": 2
}
