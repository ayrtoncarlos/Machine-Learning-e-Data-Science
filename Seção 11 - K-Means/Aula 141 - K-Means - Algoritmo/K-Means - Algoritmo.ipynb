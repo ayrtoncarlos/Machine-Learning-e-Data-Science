{
 "cells": [
  {
   "cell_type": "code",
   "execution_count": 1,
   "metadata": {
    "collapsed": true
   },
   "outputs": [],
   "source": [
    "# K means Clustering – Introduction\n",
    "# Link --> http://www.geeksforgeeks.org/k-means-clustering-introduction/\n",
    "\n",
    "# Read Data\n",
    "\n",
    "def ReadData(fileName):\n",
    " \n",
    "    # Read the file, splitting by lines\n",
    "    f = open(fileName, 'r');\n",
    "    lines = f.read().splitlines();\n",
    "    f.close();\n",
    " \n",
    "    items = [];\n",
    " \n",
    "    for i in range(1, len(lines)):\n",
    "        line = lines[i].split(',');\n",
    "        itemFeatures = [];\n",
    " \n",
    "        for j in range(len(line)-1):\n",
    "            v = float(line[j]); # Convert feature value to float\n",
    "            itemFeatures.append(v); # Add feature value to dict\n",
    " \n",
    "        items.append(itemFeatures);\n",
    " \n",
    "    shuffle(items);\n",
    " \n",
    "    return items;"
   ]
  },
  {
   "cell_type": "code",
   "execution_count": 2,
   "metadata": {
    "collapsed": true
   },
   "outputs": [],
   "source": [
    "# Initialize Means\n",
    "\n",
    "def FindColMinMax(items):\n",
    "    n = len(items[0]);\n",
    "    minima = [sys.maxint for i in range(n)];\n",
    "    maxima = [-sys.maxint -1 for i in range(n)];\n",
    "     \n",
    "    for item in items:\n",
    "        for f in range(len(item)):\n",
    "            if (item[f] < minima[f]):\n",
    "                minima[f] = item[f];\n",
    "             \n",
    "            if (item[f] > maxima[f]):\n",
    "                maxima[f] = item[f];\n",
    " \n",
    "    return minima,maxima;"
   ]
  },
  {
   "cell_type": "code",
   "execution_count": 3,
   "metadata": {
    "collapsed": true
   },
   "outputs": [],
   "source": [
    "def InitializeMeans(items, k, cMin, cMax):\n",
    " \n",
    "    # Initialize means to random numbers between\n",
    "    # the min and max of each column/feature    \n",
    "    f = len(items[0]); # number of features\n",
    "    means = [[0 for i in range(f)] for j in range(k)];\n",
    "     \n",
    "    for mean in means:\n",
    "        for i in range(len(mean)):\n",
    " \n",
    "            # Set value to a random float\n",
    "            # (adding +-1 to avoid a wide placement of a mean)\n",
    "            mean[i] = uniform(cMin[i]+1, cMax[i]-1);\n",
    " \n",
    "    return means;"
   ]
  },
  {
   "cell_type": "code",
   "execution_count": 4,
   "metadata": {
    "collapsed": true
   },
   "outputs": [],
   "source": [
    "# Euclidean Distance\n",
    "\n",
    "def EuclideanDistance(x, y):\n",
    "    S = 0; #  The sum of the squared differences of the elements\n",
    "    for i in range(len(x)):\n",
    "        S += math.pow(x[i]-y[i], 2);\n",
    " \n",
    "    return math.sqrt(S); #The square root of the sum"
   ]
  },
  {
   "cell_type": "code",
   "execution_count": 5,
   "metadata": {
    "collapsed": true
   },
   "outputs": [],
   "source": [
    "# Update Means\n",
    "\n",
    "def UpdateMean(n,mean,item):\n",
    "    for i in range(len(mean)):\n",
    "        m = mean[i];\n",
    "        m = (m*(n-1)+item[i])/float(n);\n",
    "        mean[i] = round(m, 3);\n",
    "     \n",
    "    return mean;"
   ]
  },
  {
   "cell_type": "code",
   "execution_count": 6,
   "metadata": {
    "collapsed": true
   },
   "outputs": [],
   "source": [
    "# Classify Items\n",
    "\n",
    "def Classify(means,item):\n",
    " \n",
    "    # Classify item to the mean with minimum distance    \n",
    "    minimum = sys.maxint;\n",
    "    index = -1;\n",
    " \n",
    "    for i in range(len(means)):\n",
    " \n",
    "        # Find distance from item to mean\n",
    "        dis = EuclideanDistance(item, means[i]);\n",
    " \n",
    "        if (dis < minimum):\n",
    "            minimum = dis;\n",
    "            index = i;\n",
    "     \n",
    "    return index;"
   ]
  },
  {
   "cell_type": "code",
   "execution_count": 7,
   "metadata": {
    "collapsed": true
   },
   "outputs": [],
   "source": [
    "# Find Means\n",
    "\n",
    "def CalculateMeans(k,items,maxIterations=100000):\n",
    " \n",
    "    # Find the minima and maxima for columns\n",
    "    cMin, cMax = FindColMinMax(items);\n",
    "     \n",
    "    # Initialize means at random points\n",
    "    means = InitializeMeans(items,k,cMin,cMax);\n",
    "     \n",
    "    # Initialize clusters, the array to hold\n",
    "    # the number of items in a class\n",
    "    clusterSizes= [0 for i in range(len(means))];\n",
    " \n",
    "    # An array to hold the cluster an item is in\n",
    "    belongsTo = [0 for i in range(len(items))];\n",
    " \n",
    "    # Calculate means\n",
    "    for e in range(maxIterations):\n",
    " \n",
    "        # If no change of cluster occurs, halt\n",
    "        noChange = True;\n",
    "        for i in range(len(items)):\n",
    " \n",
    "            item = items[i];\n",
    " \n",
    "            # Classify item into a cluster and update the\n",
    "            # corresponding means.        \n",
    "            index = Classify(means,item);\n",
    " \n",
    "            clusterSizes[index] += 1;\n",
    "            cSize = clusterSizes[index];\n",
    "            means[index] = UpdateMean(cSize,means[index],item);\n",
    " \n",
    "            # Item changed cluster\n",
    "            if(index != belongsTo[i]):\n",
    "                noChange = False;\n",
    " \n",
    "            belongsTo[i] = index;\n",
    " \n",
    "        # Nothing changed, return\n",
    "        if (noChange):\n",
    "            break;\n",
    " \n",
    "    return means;"
   ]
  },
  {
   "cell_type": "code",
   "execution_count": 8,
   "metadata": {
    "collapsed": true
   },
   "outputs": [],
   "source": [
    "# Find Clusters\n",
    "\n",
    "def FindClusters(means,items):\n",
    "    clusters = [[] for i in range(len(means))]; # Init clusters\n",
    "     \n",
    "    for item in items:\n",
    " \n",
    "        # Classify item into a cluster\n",
    "        index = Classify(means,item);\n",
    " \n",
    "        # Add item to cluster\n",
    "        clusters[index].append(item);\n",
    " \n",
    "    return clusters;"
   ]
  },
  {
   "cell_type": "code",
   "execution_count": null,
   "metadata": {
    "collapsed": true
   },
   "outputs": [],
   "source": []
  }
 ],
 "metadata": {
  "kernelspec": {
   "display_name": "Python 3",
   "language": "python",
   "name": "python3"
  },
  "language_info": {
   "codemirror_mode": {
    "name": "ipython",
    "version": 3
   },
   "file_extension": ".py",
   "mimetype": "text/x-python",
   "name": "python",
   "nbconvert_exporter": "python",
   "pygments_lexer": "ipython3",
   "version": "3.6.0"
  }
 },
 "nbformat": 4,
 "nbformat_minor": 2
}
